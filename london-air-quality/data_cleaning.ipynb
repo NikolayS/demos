{
 "cells": [
  {
   "cell_type": "code",
   "execution_count": 43,
   "metadata": {
    "collapsed": true
   },
   "outputs": [],
   "source": [
    "import pandas as pd\n",
    "import matplotlib.pyplot as plt\n",
    "%matplotlib inline "
   ]
  },
  {
   "cell_type": "markdown",
   "metadata": {},
   "source": [
    "We have taken data on the particulates in the air in London from (www.londonair.org.uk)[www.londonair.org.uk].\n",
    "\n",
    "In particular, we chose data on:\n",
    "* Nitric Oxide (NO)\n",
    "* Nitrogen dioxide (N2)\n",
    "* Oxides of nitrogen (NOX) \n",
    "* PM2.5 Particulate (PM2.5)\n",
    "* Sulphur Dioxide (SO2)\n",
    "\n",
    "(all measured in ug/m3).\n",
    "\n",
    "The air was sampled at Haringey Town Hall at 15 minute intervals between 1st June 2018 and 30th June 2018.\n",
    "\n",
    "[Query entered here](https://www.londonair.org.uk/london/asp/datasite.asp?CBXSpecies1=NOm&CBXSpecies2=NO2m&CBXSpecies3=NOXm&CBXSpecies5=PM25m&CBXSpecies6=SO2m&day1=1&month1=jun&year1=2018&day2=30&month2=jun&year2=2018&period=15min&ratidate=&site=HG1&res=6&Submit=Replot+graph)"
   ]
  },
  {
   "cell_type": "code",
   "execution_count": 44,
   "metadata": {
    "collapsed": true
   },
   "outputs": [],
   "source": [
    "df = pd.read_csv('https://www.londonair.org.uk/london/asp/downloadsite.asp?site=HG1&species1=NOm&species2=NO2m&species3=NOXm&species4=PM25m&species5=SO2m&species6=&start=1-jun-2018&end=30-jun-2018&res=6&period=15min&units=ugm3')"
   ]
  },
  {
   "cell_type": "markdown",
   "metadata": {},
   "source": [
    "## Save the raw data, and point Dotscience to it."
   ]
  },
  {
   "cell_type": "code",
   "execution_count": 45,
   "metadata": {
    "collapsed": true
   },
   "outputs": [],
   "source": [
    "### DOTSCIENCE TO DO: add input dataset."
   ]
  },
  {
   "cell_type": "markdown",
   "metadata": {},
   "source": [
    "This will put the data under version control"
   ]
  },
  {
   "cell_type": "code",
   "execution_count": 46,
   "metadata": {},
   "outputs": [],
   "source": [
    "df.to_csv(\"input_data/raw_air_data_harringey.csv\")"
   ]
  },
  {
   "cell_type": "markdown",
   "metadata": {},
   "source": [
    "Let's take a look at the data:"
   ]
  },
  {
   "cell_type": "code",
   "execution_count": 47,
   "metadata": {},
   "outputs": [
    {
     "data": {
      "text/html": [
       "<div>\n",
       "<style>\n",
       "    .dataframe thead tr:only-child th {\n",
       "        text-align: right;\n",
       "    }\n",
       "\n",
       "    .dataframe thead th {\n",
       "        text-align: left;\n",
       "    }\n",
       "\n",
       "    .dataframe tbody tr th {\n",
       "        vertical-align: top;\n",
       "    }\n",
       "</style>\n",
       "<table border=\"1\" class=\"dataframe\">\n",
       "  <thead>\n",
       "    <tr style=\"text-align: right;\">\n",
       "      <th></th>\n",
       "      <th>Site</th>\n",
       "      <th>Species</th>\n",
       "      <th>ReadingDateTime</th>\n",
       "      <th>Value</th>\n",
       "      <th>Units</th>\n",
       "      <th>Provisional or Ratified</th>\n",
       "    </tr>\n",
       "  </thead>\n",
       "  <tbody>\n",
       "    <tr>\n",
       "      <th>0</th>\n",
       "      <td>HG1</td>\n",
       "      <td>NO</td>\n",
       "      <td>01/06/2018 00:00</td>\n",
       "      <td>2.7</td>\n",
       "      <td>ug m-3</td>\n",
       "      <td>P</td>\n",
       "    </tr>\n",
       "    <tr>\n",
       "      <th>1</th>\n",
       "      <td>HG1</td>\n",
       "      <td>NO</td>\n",
       "      <td>01/06/2018 00:15</td>\n",
       "      <td>3.0</td>\n",
       "      <td>ug m-3</td>\n",
       "      <td>P</td>\n",
       "    </tr>\n",
       "    <tr>\n",
       "      <th>2</th>\n",
       "      <td>HG1</td>\n",
       "      <td>NO</td>\n",
       "      <td>01/06/2018 00:30</td>\n",
       "      <td>4.7</td>\n",
       "      <td>ug m-3</td>\n",
       "      <td>P</td>\n",
       "    </tr>\n",
       "    <tr>\n",
       "      <th>3</th>\n",
       "      <td>HG1</td>\n",
       "      <td>NO</td>\n",
       "      <td>01/06/2018 00:45</td>\n",
       "      <td>NaN</td>\n",
       "      <td>ug m-3</td>\n",
       "      <td>P</td>\n",
       "    </tr>\n",
       "    <tr>\n",
       "      <th>4</th>\n",
       "      <td>HG1</td>\n",
       "      <td>NO</td>\n",
       "      <td>01/06/2018 01:00</td>\n",
       "      <td>NaN</td>\n",
       "      <td>ug m-3</td>\n",
       "      <td>P</td>\n",
       "    </tr>\n",
       "    <tr>\n",
       "      <th>5</th>\n",
       "      <td>HG1</td>\n",
       "      <td>NO</td>\n",
       "      <td>01/06/2018 01:15</td>\n",
       "      <td>1.6</td>\n",
       "      <td>ug m-3</td>\n",
       "      <td>P</td>\n",
       "    </tr>\n",
       "    <tr>\n",
       "      <th>6</th>\n",
       "      <td>HG1</td>\n",
       "      <td>NO</td>\n",
       "      <td>01/06/2018 01:30</td>\n",
       "      <td>8.1</td>\n",
       "      <td>ug m-3</td>\n",
       "      <td>P</td>\n",
       "    </tr>\n",
       "    <tr>\n",
       "      <th>7</th>\n",
       "      <td>HG1</td>\n",
       "      <td>NO</td>\n",
       "      <td>01/06/2018 01:45</td>\n",
       "      <td>1.7</td>\n",
       "      <td>ug m-3</td>\n",
       "      <td>P</td>\n",
       "    </tr>\n",
       "    <tr>\n",
       "      <th>8</th>\n",
       "      <td>HG1</td>\n",
       "      <td>NO</td>\n",
       "      <td>01/06/2018 02:00</td>\n",
       "      <td>8.0</td>\n",
       "      <td>ug m-3</td>\n",
       "      <td>P</td>\n",
       "    </tr>\n",
       "    <tr>\n",
       "      <th>9</th>\n",
       "      <td>HG1</td>\n",
       "      <td>NO</td>\n",
       "      <td>01/06/2018 02:15</td>\n",
       "      <td>6.6</td>\n",
       "      <td>ug m-3</td>\n",
       "      <td>P</td>\n",
       "    </tr>\n",
       "    <tr>\n",
       "      <th>10</th>\n",
       "      <td>HG1</td>\n",
       "      <td>NO</td>\n",
       "      <td>01/06/2018 02:30</td>\n",
       "      <td>3.2</td>\n",
       "      <td>ug m-3</td>\n",
       "      <td>P</td>\n",
       "    </tr>\n",
       "    <tr>\n",
       "      <th>11</th>\n",
       "      <td>HG1</td>\n",
       "      <td>NO</td>\n",
       "      <td>01/06/2018 02:45</td>\n",
       "      <td>2.2</td>\n",
       "      <td>ug m-3</td>\n",
       "      <td>P</td>\n",
       "    </tr>\n",
       "    <tr>\n",
       "      <th>12</th>\n",
       "      <td>HG1</td>\n",
       "      <td>NO</td>\n",
       "      <td>01/06/2018 03:00</td>\n",
       "      <td>5.0</td>\n",
       "      <td>ug m-3</td>\n",
       "      <td>P</td>\n",
       "    </tr>\n",
       "    <tr>\n",
       "      <th>13</th>\n",
       "      <td>HG1</td>\n",
       "      <td>NO</td>\n",
       "      <td>01/06/2018 03:15</td>\n",
       "      <td>13.3</td>\n",
       "      <td>ug m-3</td>\n",
       "      <td>P</td>\n",
       "    </tr>\n",
       "    <tr>\n",
       "      <th>14</th>\n",
       "      <td>HG1</td>\n",
       "      <td>NO</td>\n",
       "      <td>01/06/2018 03:30</td>\n",
       "      <td>3.9</td>\n",
       "      <td>ug m-3</td>\n",
       "      <td>P</td>\n",
       "    </tr>\n",
       "    <tr>\n",
       "      <th>15</th>\n",
       "      <td>HG1</td>\n",
       "      <td>NO</td>\n",
       "      <td>01/06/2018 03:45</td>\n",
       "      <td>27.2</td>\n",
       "      <td>ug m-3</td>\n",
       "      <td>P</td>\n",
       "    </tr>\n",
       "    <tr>\n",
       "      <th>16</th>\n",
       "      <td>HG1</td>\n",
       "      <td>NO</td>\n",
       "      <td>01/06/2018 04:00</td>\n",
       "      <td>6.2</td>\n",
       "      <td>ug m-3</td>\n",
       "      <td>P</td>\n",
       "    </tr>\n",
       "    <tr>\n",
       "      <th>17</th>\n",
       "      <td>HG1</td>\n",
       "      <td>NO</td>\n",
       "      <td>01/06/2018 04:15</td>\n",
       "      <td>19.9</td>\n",
       "      <td>ug m-3</td>\n",
       "      <td>P</td>\n",
       "    </tr>\n",
       "    <tr>\n",
       "      <th>18</th>\n",
       "      <td>HG1</td>\n",
       "      <td>NO</td>\n",
       "      <td>01/06/2018 04:30</td>\n",
       "      <td>18.3</td>\n",
       "      <td>ug m-3</td>\n",
       "      <td>P</td>\n",
       "    </tr>\n",
       "    <tr>\n",
       "      <th>19</th>\n",
       "      <td>HG1</td>\n",
       "      <td>NO</td>\n",
       "      <td>01/06/2018 04:45</td>\n",
       "      <td>22.8</td>\n",
       "      <td>ug m-3</td>\n",
       "      <td>P</td>\n",
       "    </tr>\n",
       "    <tr>\n",
       "      <th>20</th>\n",
       "      <td>HG1</td>\n",
       "      <td>NO</td>\n",
       "      <td>01/06/2018 05:00</td>\n",
       "      <td>36.5</td>\n",
       "      <td>ug m-3</td>\n",
       "      <td>P</td>\n",
       "    </tr>\n",
       "    <tr>\n",
       "      <th>21</th>\n",
       "      <td>HG1</td>\n",
       "      <td>NO</td>\n",
       "      <td>01/06/2018 05:15</td>\n",
       "      <td>33.8</td>\n",
       "      <td>ug m-3</td>\n",
       "      <td>P</td>\n",
       "    </tr>\n",
       "    <tr>\n",
       "      <th>22</th>\n",
       "      <td>HG1</td>\n",
       "      <td>NO</td>\n",
       "      <td>01/06/2018 05:30</td>\n",
       "      <td>31.2</td>\n",
       "      <td>ug m-3</td>\n",
       "      <td>P</td>\n",
       "    </tr>\n",
       "    <tr>\n",
       "      <th>23</th>\n",
       "      <td>HG1</td>\n",
       "      <td>NO</td>\n",
       "      <td>01/06/2018 05:45</td>\n",
       "      <td>50.5</td>\n",
       "      <td>ug m-3</td>\n",
       "      <td>P</td>\n",
       "    </tr>\n",
       "    <tr>\n",
       "      <th>24</th>\n",
       "      <td>HG1</td>\n",
       "      <td>NO</td>\n",
       "      <td>01/06/2018 06:00</td>\n",
       "      <td>27.7</td>\n",
       "      <td>ug m-3</td>\n",
       "      <td>P</td>\n",
       "    </tr>\n",
       "    <tr>\n",
       "      <th>25</th>\n",
       "      <td>HG1</td>\n",
       "      <td>NO</td>\n",
       "      <td>01/06/2018 06:15</td>\n",
       "      <td>41.1</td>\n",
       "      <td>ug m-3</td>\n",
       "      <td>P</td>\n",
       "    </tr>\n",
       "    <tr>\n",
       "      <th>26</th>\n",
       "      <td>HG1</td>\n",
       "      <td>NO</td>\n",
       "      <td>01/06/2018 06:30</td>\n",
       "      <td>19.6</td>\n",
       "      <td>ug m-3</td>\n",
       "      <td>P</td>\n",
       "    </tr>\n",
       "    <tr>\n",
       "      <th>27</th>\n",
       "      <td>HG1</td>\n",
       "      <td>NO</td>\n",
       "      <td>01/06/2018 06:45</td>\n",
       "      <td>32.5</td>\n",
       "      <td>ug m-3</td>\n",
       "      <td>P</td>\n",
       "    </tr>\n",
       "    <tr>\n",
       "      <th>28</th>\n",
       "      <td>HG1</td>\n",
       "      <td>NO</td>\n",
       "      <td>01/06/2018 07:00</td>\n",
       "      <td>39.6</td>\n",
       "      <td>ug m-3</td>\n",
       "      <td>P</td>\n",
       "    </tr>\n",
       "    <tr>\n",
       "      <th>29</th>\n",
       "      <td>HG1</td>\n",
       "      <td>NO</td>\n",
       "      <td>01/06/2018 07:15</td>\n",
       "      <td>54.5</td>\n",
       "      <td>ug m-3</td>\n",
       "      <td>P</td>\n",
       "    </tr>\n",
       "    <tr>\n",
       "      <th>...</th>\n",
       "      <td>...</td>\n",
       "      <td>...</td>\n",
       "      <td>...</td>\n",
       "      <td>...</td>\n",
       "      <td>...</td>\n",
       "      <td>...</td>\n",
       "    </tr>\n",
       "    <tr>\n",
       "      <th>13890</th>\n",
       "      <td>HG1</td>\n",
       "      <td>SO2</td>\n",
       "      <td>29/06/2018 16:30</td>\n",
       "      <td>NaN</td>\n",
       "      <td>ug m-3</td>\n",
       "      <td>P</td>\n",
       "    </tr>\n",
       "    <tr>\n",
       "      <th>13891</th>\n",
       "      <td>HG1</td>\n",
       "      <td>SO2</td>\n",
       "      <td>29/06/2018 16:45</td>\n",
       "      <td>NaN</td>\n",
       "      <td>ug m-3</td>\n",
       "      <td>P</td>\n",
       "    </tr>\n",
       "    <tr>\n",
       "      <th>13892</th>\n",
       "      <td>HG1</td>\n",
       "      <td>SO2</td>\n",
       "      <td>29/06/2018 17:00</td>\n",
       "      <td>NaN</td>\n",
       "      <td>ug m-3</td>\n",
       "      <td>P</td>\n",
       "    </tr>\n",
       "    <tr>\n",
       "      <th>13893</th>\n",
       "      <td>HG1</td>\n",
       "      <td>SO2</td>\n",
       "      <td>29/06/2018 17:15</td>\n",
       "      <td>NaN</td>\n",
       "      <td>ug m-3</td>\n",
       "      <td>P</td>\n",
       "    </tr>\n",
       "    <tr>\n",
       "      <th>13894</th>\n",
       "      <td>HG1</td>\n",
       "      <td>SO2</td>\n",
       "      <td>29/06/2018 17:30</td>\n",
       "      <td>NaN</td>\n",
       "      <td>ug m-3</td>\n",
       "      <td>P</td>\n",
       "    </tr>\n",
       "    <tr>\n",
       "      <th>13895</th>\n",
       "      <td>HG1</td>\n",
       "      <td>SO2</td>\n",
       "      <td>29/06/2018 17:45</td>\n",
       "      <td>NaN</td>\n",
       "      <td>ug m-3</td>\n",
       "      <td>P</td>\n",
       "    </tr>\n",
       "    <tr>\n",
       "      <th>13896</th>\n",
       "      <td>HG1</td>\n",
       "      <td>SO2</td>\n",
       "      <td>29/06/2018 18:00</td>\n",
       "      <td>NaN</td>\n",
       "      <td>ug m-3</td>\n",
       "      <td>P</td>\n",
       "    </tr>\n",
       "    <tr>\n",
       "      <th>13897</th>\n",
       "      <td>HG1</td>\n",
       "      <td>SO2</td>\n",
       "      <td>29/06/2018 18:15</td>\n",
       "      <td>NaN</td>\n",
       "      <td>ug m-3</td>\n",
       "      <td>P</td>\n",
       "    </tr>\n",
       "    <tr>\n",
       "      <th>13898</th>\n",
       "      <td>HG1</td>\n",
       "      <td>SO2</td>\n",
       "      <td>29/06/2018 18:30</td>\n",
       "      <td>NaN</td>\n",
       "      <td>ug m-3</td>\n",
       "      <td>P</td>\n",
       "    </tr>\n",
       "    <tr>\n",
       "      <th>13899</th>\n",
       "      <td>HG1</td>\n",
       "      <td>SO2</td>\n",
       "      <td>29/06/2018 18:45</td>\n",
       "      <td>NaN</td>\n",
       "      <td>ug m-3</td>\n",
       "      <td>P</td>\n",
       "    </tr>\n",
       "    <tr>\n",
       "      <th>13900</th>\n",
       "      <td>HG1</td>\n",
       "      <td>SO2</td>\n",
       "      <td>29/06/2018 19:00</td>\n",
       "      <td>NaN</td>\n",
       "      <td>ug m-3</td>\n",
       "      <td>P</td>\n",
       "    </tr>\n",
       "    <tr>\n",
       "      <th>13901</th>\n",
       "      <td>HG1</td>\n",
       "      <td>SO2</td>\n",
       "      <td>29/06/2018 19:15</td>\n",
       "      <td>NaN</td>\n",
       "      <td>ug m-3</td>\n",
       "      <td>P</td>\n",
       "    </tr>\n",
       "    <tr>\n",
       "      <th>13902</th>\n",
       "      <td>HG1</td>\n",
       "      <td>SO2</td>\n",
       "      <td>29/06/2018 19:30</td>\n",
       "      <td>NaN</td>\n",
       "      <td>ug m-3</td>\n",
       "      <td>P</td>\n",
       "    </tr>\n",
       "    <tr>\n",
       "      <th>13903</th>\n",
       "      <td>HG1</td>\n",
       "      <td>SO2</td>\n",
       "      <td>29/06/2018 19:45</td>\n",
       "      <td>NaN</td>\n",
       "      <td>ug m-3</td>\n",
       "      <td>P</td>\n",
       "    </tr>\n",
       "    <tr>\n",
       "      <th>13904</th>\n",
       "      <td>HG1</td>\n",
       "      <td>SO2</td>\n",
       "      <td>29/06/2018 20:00</td>\n",
       "      <td>NaN</td>\n",
       "      <td>ug m-3</td>\n",
       "      <td>P</td>\n",
       "    </tr>\n",
       "    <tr>\n",
       "      <th>13905</th>\n",
       "      <td>HG1</td>\n",
       "      <td>SO2</td>\n",
       "      <td>29/06/2018 20:15</td>\n",
       "      <td>NaN</td>\n",
       "      <td>ug m-3</td>\n",
       "      <td>P</td>\n",
       "    </tr>\n",
       "    <tr>\n",
       "      <th>13906</th>\n",
       "      <td>HG1</td>\n",
       "      <td>SO2</td>\n",
       "      <td>29/06/2018 20:30</td>\n",
       "      <td>NaN</td>\n",
       "      <td>ug m-3</td>\n",
       "      <td>P</td>\n",
       "    </tr>\n",
       "    <tr>\n",
       "      <th>13907</th>\n",
       "      <td>HG1</td>\n",
       "      <td>SO2</td>\n",
       "      <td>29/06/2018 20:45</td>\n",
       "      <td>NaN</td>\n",
       "      <td>ug m-3</td>\n",
       "      <td>P</td>\n",
       "    </tr>\n",
       "    <tr>\n",
       "      <th>13908</th>\n",
       "      <td>HG1</td>\n",
       "      <td>SO2</td>\n",
       "      <td>29/06/2018 21:00</td>\n",
       "      <td>NaN</td>\n",
       "      <td>ug m-3</td>\n",
       "      <td>P</td>\n",
       "    </tr>\n",
       "    <tr>\n",
       "      <th>13909</th>\n",
       "      <td>HG1</td>\n",
       "      <td>SO2</td>\n",
       "      <td>29/06/2018 21:15</td>\n",
       "      <td>NaN</td>\n",
       "      <td>ug m-3</td>\n",
       "      <td>P</td>\n",
       "    </tr>\n",
       "    <tr>\n",
       "      <th>13910</th>\n",
       "      <td>HG1</td>\n",
       "      <td>SO2</td>\n",
       "      <td>29/06/2018 21:30</td>\n",
       "      <td>NaN</td>\n",
       "      <td>ug m-3</td>\n",
       "      <td>P</td>\n",
       "    </tr>\n",
       "    <tr>\n",
       "      <th>13911</th>\n",
       "      <td>HG1</td>\n",
       "      <td>SO2</td>\n",
       "      <td>29/06/2018 21:45</td>\n",
       "      <td>NaN</td>\n",
       "      <td>ug m-3</td>\n",
       "      <td>P</td>\n",
       "    </tr>\n",
       "    <tr>\n",
       "      <th>13912</th>\n",
       "      <td>HG1</td>\n",
       "      <td>SO2</td>\n",
       "      <td>29/06/2018 22:00</td>\n",
       "      <td>NaN</td>\n",
       "      <td>ug m-3</td>\n",
       "      <td>P</td>\n",
       "    </tr>\n",
       "    <tr>\n",
       "      <th>13913</th>\n",
       "      <td>HG1</td>\n",
       "      <td>SO2</td>\n",
       "      <td>29/06/2018 22:15</td>\n",
       "      <td>NaN</td>\n",
       "      <td>ug m-3</td>\n",
       "      <td>P</td>\n",
       "    </tr>\n",
       "    <tr>\n",
       "      <th>13914</th>\n",
       "      <td>HG1</td>\n",
       "      <td>SO2</td>\n",
       "      <td>29/06/2018 22:30</td>\n",
       "      <td>NaN</td>\n",
       "      <td>ug m-3</td>\n",
       "      <td>P</td>\n",
       "    </tr>\n",
       "    <tr>\n",
       "      <th>13915</th>\n",
       "      <td>HG1</td>\n",
       "      <td>SO2</td>\n",
       "      <td>29/06/2018 22:45</td>\n",
       "      <td>NaN</td>\n",
       "      <td>ug m-3</td>\n",
       "      <td>P</td>\n",
       "    </tr>\n",
       "    <tr>\n",
       "      <th>13916</th>\n",
       "      <td>HG1</td>\n",
       "      <td>SO2</td>\n",
       "      <td>29/06/2018 23:00</td>\n",
       "      <td>NaN</td>\n",
       "      <td>ug m-3</td>\n",
       "      <td>P</td>\n",
       "    </tr>\n",
       "    <tr>\n",
       "      <th>13917</th>\n",
       "      <td>HG1</td>\n",
       "      <td>SO2</td>\n",
       "      <td>29/06/2018 23:15</td>\n",
       "      <td>NaN</td>\n",
       "      <td>ug m-3</td>\n",
       "      <td>P</td>\n",
       "    </tr>\n",
       "    <tr>\n",
       "      <th>13918</th>\n",
       "      <td>HG1</td>\n",
       "      <td>SO2</td>\n",
       "      <td>29/06/2018 23:30</td>\n",
       "      <td>NaN</td>\n",
       "      <td>ug m-3</td>\n",
       "      <td>P</td>\n",
       "    </tr>\n",
       "    <tr>\n",
       "      <th>13919</th>\n",
       "      <td>HG1</td>\n",
       "      <td>SO2</td>\n",
       "      <td>29/06/2018 23:45</td>\n",
       "      <td>NaN</td>\n",
       "      <td>ug m-3</td>\n",
       "      <td>P</td>\n",
       "    </tr>\n",
       "  </tbody>\n",
       "</table>\n",
       "<p>13920 rows × 6 columns</p>\n",
       "</div>"
      ],
      "text/plain": [
       "      Site Species   ReadingDateTime  Value   Units Provisional or Ratified\n",
       "0      HG1      NO  01/06/2018 00:00    2.7  ug m-3                       P\n",
       "1      HG1      NO  01/06/2018 00:15    3.0  ug m-3                       P\n",
       "2      HG1      NO  01/06/2018 00:30    4.7  ug m-3                       P\n",
       "3      HG1      NO  01/06/2018 00:45    NaN  ug m-3                       P\n",
       "4      HG1      NO  01/06/2018 01:00    NaN  ug m-3                       P\n",
       "5      HG1      NO  01/06/2018 01:15    1.6  ug m-3                       P\n",
       "6      HG1      NO  01/06/2018 01:30    8.1  ug m-3                       P\n",
       "7      HG1      NO  01/06/2018 01:45    1.7  ug m-3                       P\n",
       "8      HG1      NO  01/06/2018 02:00    8.0  ug m-3                       P\n",
       "9      HG1      NO  01/06/2018 02:15    6.6  ug m-3                       P\n",
       "10     HG1      NO  01/06/2018 02:30    3.2  ug m-3                       P\n",
       "11     HG1      NO  01/06/2018 02:45    2.2  ug m-3                       P\n",
       "12     HG1      NO  01/06/2018 03:00    5.0  ug m-3                       P\n",
       "13     HG1      NO  01/06/2018 03:15   13.3  ug m-3                       P\n",
       "14     HG1      NO  01/06/2018 03:30    3.9  ug m-3                       P\n",
       "15     HG1      NO  01/06/2018 03:45   27.2  ug m-3                       P\n",
       "16     HG1      NO  01/06/2018 04:00    6.2  ug m-3                       P\n",
       "17     HG1      NO  01/06/2018 04:15   19.9  ug m-3                       P\n",
       "18     HG1      NO  01/06/2018 04:30   18.3  ug m-3                       P\n",
       "19     HG1      NO  01/06/2018 04:45   22.8  ug m-3                       P\n",
       "20     HG1      NO  01/06/2018 05:00   36.5  ug m-3                       P\n",
       "21     HG1      NO  01/06/2018 05:15   33.8  ug m-3                       P\n",
       "22     HG1      NO  01/06/2018 05:30   31.2  ug m-3                       P\n",
       "23     HG1      NO  01/06/2018 05:45   50.5  ug m-3                       P\n",
       "24     HG1      NO  01/06/2018 06:00   27.7  ug m-3                       P\n",
       "25     HG1      NO  01/06/2018 06:15   41.1  ug m-3                       P\n",
       "26     HG1      NO  01/06/2018 06:30   19.6  ug m-3                       P\n",
       "27     HG1      NO  01/06/2018 06:45   32.5  ug m-3                       P\n",
       "28     HG1      NO  01/06/2018 07:00   39.6  ug m-3                       P\n",
       "29     HG1      NO  01/06/2018 07:15   54.5  ug m-3                       P\n",
       "...    ...     ...               ...    ...     ...                     ...\n",
       "13890  HG1     SO2  29/06/2018 16:30    NaN  ug m-3                       P\n",
       "13891  HG1     SO2  29/06/2018 16:45    NaN  ug m-3                       P\n",
       "13892  HG1     SO2  29/06/2018 17:00    NaN  ug m-3                       P\n",
       "13893  HG1     SO2  29/06/2018 17:15    NaN  ug m-3                       P\n",
       "13894  HG1     SO2  29/06/2018 17:30    NaN  ug m-3                       P\n",
       "13895  HG1     SO2  29/06/2018 17:45    NaN  ug m-3                       P\n",
       "13896  HG1     SO2  29/06/2018 18:00    NaN  ug m-3                       P\n",
       "13897  HG1     SO2  29/06/2018 18:15    NaN  ug m-3                       P\n",
       "13898  HG1     SO2  29/06/2018 18:30    NaN  ug m-3                       P\n",
       "13899  HG1     SO2  29/06/2018 18:45    NaN  ug m-3                       P\n",
       "13900  HG1     SO2  29/06/2018 19:00    NaN  ug m-3                       P\n",
       "13901  HG1     SO2  29/06/2018 19:15    NaN  ug m-3                       P\n",
       "13902  HG1     SO2  29/06/2018 19:30    NaN  ug m-3                       P\n",
       "13903  HG1     SO2  29/06/2018 19:45    NaN  ug m-3                       P\n",
       "13904  HG1     SO2  29/06/2018 20:00    NaN  ug m-3                       P\n",
       "13905  HG1     SO2  29/06/2018 20:15    NaN  ug m-3                       P\n",
       "13906  HG1     SO2  29/06/2018 20:30    NaN  ug m-3                       P\n",
       "13907  HG1     SO2  29/06/2018 20:45    NaN  ug m-3                       P\n",
       "13908  HG1     SO2  29/06/2018 21:00    NaN  ug m-3                       P\n",
       "13909  HG1     SO2  29/06/2018 21:15    NaN  ug m-3                       P\n",
       "13910  HG1     SO2  29/06/2018 21:30    NaN  ug m-3                       P\n",
       "13911  HG1     SO2  29/06/2018 21:45    NaN  ug m-3                       P\n",
       "13912  HG1     SO2  29/06/2018 22:00    NaN  ug m-3                       P\n",
       "13913  HG1     SO2  29/06/2018 22:15    NaN  ug m-3                       P\n",
       "13914  HG1     SO2  29/06/2018 22:30    NaN  ug m-3                       P\n",
       "13915  HG1     SO2  29/06/2018 22:45    NaN  ug m-3                       P\n",
       "13916  HG1     SO2  29/06/2018 23:00    NaN  ug m-3                       P\n",
       "13917  HG1     SO2  29/06/2018 23:15    NaN  ug m-3                       P\n",
       "13918  HG1     SO2  29/06/2018 23:30    NaN  ug m-3                       P\n",
       "13919  HG1     SO2  29/06/2018 23:45    NaN  ug m-3                       P\n",
       "\n",
       "[13920 rows x 6 columns]"
      ]
     },
     "execution_count": 47,
     "metadata": {},
     "output_type": "execute_result"
    }
   ],
   "source": [
    "df"
   ]
  },
  {
   "cell_type": "markdown",
   "metadata": {},
   "source": [
    "There are too many rows to view this easily. The records are sorted by `Species`. Let's see what unique values are in this column:"
   ]
  },
  {
   "cell_type": "code",
   "execution_count": 48,
   "metadata": {},
   "outputs": [
    {
     "data": {
      "text/plain": [
       "array(['NO', 'NO2', 'NOX', 'PM2.5', 'SO2'], dtype=object)"
      ]
     },
     "execution_count": 48,
     "metadata": {},
     "output_type": "execute_result"
    }
   ],
   "source": [
    "df.Species.unique()"
   ]
  },
  {
   "cell_type": "markdown",
   "metadata": {},
   "source": [
    "We can see that there are five values: `NO` for nitric oxide, `NO2` for nitrogen dioxide, `NOX` for oxides of nitrogen, `Pm2.5` for PM2.5 Particulate, and `S02` for sulphur dioxide. "
   ]
  },
  {
   "cell_type": "markdown",
   "metadata": {},
   "source": [
    "How is each measurement recorded?"
   ]
  },
  {
   "cell_type": "code",
   "execution_count": 49,
   "metadata": {},
   "outputs": [
    {
     "data": {
      "text/html": [
       "<div>\n",
       "<style>\n",
       "    .dataframe thead tr:only-child th {\n",
       "        text-align: right;\n",
       "    }\n",
       "\n",
       "    .dataframe thead th {\n",
       "        text-align: left;\n",
       "    }\n",
       "\n",
       "    .dataframe tbody tr th {\n",
       "        vertical-align: top;\n",
       "    }\n",
       "</style>\n",
       "<table border=\"1\" class=\"dataframe\">\n",
       "  <thead>\n",
       "    <tr style=\"text-align: right;\">\n",
       "      <th></th>\n",
       "      <th>Site</th>\n",
       "      <th>Species</th>\n",
       "      <th>ReadingDateTime</th>\n",
       "      <th>Value</th>\n",
       "      <th>Units</th>\n",
       "      <th>Provisional or Ratified</th>\n",
       "    </tr>\n",
       "  </thead>\n",
       "  <tbody>\n",
       "    <tr>\n",
       "      <th>44</th>\n",
       "      <td>HG1</td>\n",
       "      <td>NO</td>\n",
       "      <td>01/06/2018 11:00</td>\n",
       "      <td>26.4</td>\n",
       "      <td>ug m-3</td>\n",
       "      <td>P</td>\n",
       "    </tr>\n",
       "    <tr>\n",
       "      <th>2828</th>\n",
       "      <td>HG1</td>\n",
       "      <td>NO2</td>\n",
       "      <td>01/06/2018 11:00</td>\n",
       "      <td>44.2</td>\n",
       "      <td>ug m-3</td>\n",
       "      <td>P</td>\n",
       "    </tr>\n",
       "    <tr>\n",
       "      <th>5612</th>\n",
       "      <td>HG1</td>\n",
       "      <td>NOX</td>\n",
       "      <td>01/06/2018 11:00</td>\n",
       "      <td>84.7</td>\n",
       "      <td>ug m-3 as NO2</td>\n",
       "      <td>P</td>\n",
       "    </tr>\n",
       "    <tr>\n",
       "      <th>8396</th>\n",
       "      <td>HG1</td>\n",
       "      <td>PM2.5</td>\n",
       "      <td>01/06/2018 11:00</td>\n",
       "      <td>NaN</td>\n",
       "      <td>ug m-3</td>\n",
       "      <td>P</td>\n",
       "    </tr>\n",
       "    <tr>\n",
       "      <th>11180</th>\n",
       "      <td>HG1</td>\n",
       "      <td>SO2</td>\n",
       "      <td>01/06/2018 11:00</td>\n",
       "      <td>NaN</td>\n",
       "      <td>ug m-3</td>\n",
       "      <td>P</td>\n",
       "    </tr>\n",
       "  </tbody>\n",
       "</table>\n",
       "</div>"
      ],
      "text/plain": [
       "      Site Species   ReadingDateTime  Value          Units  \\\n",
       "44     HG1      NO  01/06/2018 11:00   26.4         ug m-3   \n",
       "2828   HG1     NO2  01/06/2018 11:00   44.2         ug m-3   \n",
       "5612   HG1     NOX  01/06/2018 11:00   84.7  ug m-3 as NO2   \n",
       "8396   HG1   PM2.5  01/06/2018 11:00    NaN         ug m-3   \n",
       "11180  HG1     SO2  01/06/2018 11:00    NaN         ug m-3   \n",
       "\n",
       "      Provisional or Ratified  \n",
       "44                          P  \n",
       "2828                        P  \n",
       "5612                        P  \n",
       "8396                        P  \n",
       "11180                       P  "
      ]
     },
     "execution_count": 49,
     "metadata": {},
     "output_type": "execute_result"
    }
   ],
   "source": [
    "df.loc[df.ReadingDateTime == \"01/06/2018 11:00\"]"
   ]
  },
  {
   "cell_type": "markdown",
   "metadata": {},
   "source": [
    "It appears that each unique time seems to have five records: one for each of the particulates. Let's check that this is true in general."
   ]
  },
  {
   "cell_type": "code",
   "execution_count": 50,
   "metadata": {},
   "outputs": [
    {
     "name": "stdout",
     "output_type": "stream",
     "text": [
      "no datetimes without sample data for all particulates: NO, NO2, NOX, PM2.5 and SO2!\n"
     ]
    }
   ],
   "source": [
    "datetimes_no_data =[]\n",
    "for date in df.ReadingDateTime:\n",
    "    if len(df.loc[df.ReadingDateTime == date]) != 5:\n",
    "        datetimes_no_data.append(date)\n",
    "        print date\n",
    "\n",
    "if len(datetimes_no_data) == 0:\n",
    "    print \"no datetimes without sample data for all particulates: NO, NO2, NOX, PM2.5 and SO2!\"\n",
    "        "
   ]
  },
  {
   "cell_type": "markdown",
   "metadata": {
    "collapsed": true
   },
   "source": [
    "Although every timestamp has a record for the particulates we are interested in, it looks like a lot of these are null (`NaN`). We want to remove null values from our data. First, let's check whether any of the other columns have null values:"
   ]
  },
  {
   "cell_type": "code",
   "execution_count": 51,
   "metadata": {},
   "outputs": [
    {
     "data": {
      "text/plain": [
       "Site                       False\n",
       "Species                    False\n",
       "ReadingDateTime            False\n",
       "Value                       True\n",
       "Units                      False\n",
       "Provisional or Ratified    False\n",
       "dtype: bool"
      ]
     },
     "execution_count": 51,
     "metadata": {},
     "output_type": "execute_result"
    }
   ],
   "source": [
    "df.isnull().any()"
   ]
  },
  {
   "cell_type": "markdown",
   "metadata": {},
   "source": [
    "It is just the `Value` column that has some nulls. Let's see how many nulls it contains:"
   ]
  },
  {
   "cell_type": "code",
   "execution_count": 52,
   "metadata": {},
   "outputs": [
    {
     "data": {
      "text/plain": [
       "5754"
      ]
     },
     "execution_count": 52,
     "metadata": {},
     "output_type": "execute_result"
    }
   ],
   "source": [
    "df['Value'].isnull().sum()"
   ]
  },
  {
   "cell_type": "markdown",
   "metadata": {},
   "source": [
    "###  Number of null values for each particulate"
   ]
  },
  {
   "cell_type": "code",
   "execution_count": 53,
   "metadata": {},
   "outputs": [
    {
     "name": "stdout",
     "output_type": "stream",
     "text": [
      "particulate: null values: non-null values:\n",
      "NO \t\t62 \t\t2722\n",
      "NO2 \t\t62 \t\t2722\n",
      "NOX \t\t62 \t\t2722\n",
      "PM2.5 \t\t2784 \t\t0\n",
      "SO2 \t\t2784 \t\t0\n"
     ]
    }
   ],
   "source": [
    "particulates = [str(array) for array in df.Species.unique()]\n",
    "\n",
    "nulls_and_nonnulls_per_particulate = zip(particulates, \n",
    "                            [len(df.loc[(df.Value.isnull()) & (df.Species == particulate)]) for particulate in particulates],\n",
    "                            [(len(df.loc[(df.Species == particulate)])) for particulate in particulates]\n",
    "                           )\n",
    "\n",
    "\n",
    "print \"particulate: null values: non-null values:\"\n",
    "for (a, b, c) in nulls_and_nonnulls_per_particulate:\n",
    "    print a, \"\\t\\t\", b, \"\\t\\t\", c-b\n",
    "    \n",
    "    "
   ]
  },
  {
   "cell_type": "markdown",
   "metadata": {},
   "source": [
    "So, all of our records for PM2.5 and SO2 are null. 62 of our records for the remaining particulates are null."
   ]
  },
  {
   "cell_type": "markdown",
   "metadata": {},
   "source": [
    "Let's go ahead and drop the null values:\n"
   ]
  },
  {
   "cell_type": "markdown",
   "metadata": {},
   "source": [
    "## Removing null values"
   ]
  },
  {
   "cell_type": "markdown",
   "metadata": {},
   "source": [
    "All the PM2.5 and SO2 measures are null, so let's remove those records altogether from our dataframe. \n",
    "The remaining particulates just have a few nulls, so rather than dropping the timestamps with null measurements, we will replace those with the mean values. "
   ]
  },
  {
   "cell_type": "markdown",
   "metadata": {},
   "source": [
    "### Drop the PM2.5 and SO2 rows\n"
   ]
  },
  {
   "cell_type": "code",
   "execution_count": 59,
   "metadata": {},
   "outputs": [],
   "source": [
    "rows_to_drop = df.index[df['Species'] == \"SO2\"].tolist() + df.index[df['Species'] == \"PM2.5\"].tolist()\n"
   ]
  },
  {
   "cell_type": "code",
   "execution_count": 60,
   "metadata": {},
   "outputs": [
    {
     "data": {
      "text/plain": [
       "5568"
      ]
     },
     "execution_count": 60,
     "metadata": {},
     "output_type": "execute_result"
    }
   ],
   "source": [
    "len(rows_to_drop)"
   ]
  },
  {
   "cell_type": "code",
   "execution_count": 56,
   "metadata": {},
   "outputs": [],
   "source": [
    "#df.dropna(inplace = True)"
   ]
  },
  {
   "cell_type": "code",
   "execution_count": 61,
   "metadata": {
    "collapsed": true
   },
   "outputs": [],
   "source": [
    "df.drop(df.index[rows_to_drop], inplace = True)\n"
   ]
  },
  {
   "cell_type": "code",
   "execution_count": 62,
   "metadata": {},
   "outputs": [
    {
     "data": {
      "text/plain": [
       "8352"
      ]
     },
     "execution_count": 62,
     "metadata": {},
     "output_type": "execute_result"
    }
   ],
   "source": [
    "len(df)"
   ]
  },
  {
   "cell_type": "markdown",
   "metadata": {},
   "source": [
    "Now, let's save this dataset. We'll give it a new name to preserve the raw data saved earlier."
   ]
  },
  {
   "cell_type": "code",
   "execution_count": 63,
   "metadata": {
    "collapsed": true
   },
   "outputs": [],
   "source": [
    "df.to_csv(\"input_data/nonnull_air_data_harringey.csv\")"
   ]
  },
  {
   "cell_type": "markdown",
   "metadata": {},
   "source": [
    "Then, we can replace those 62 null NO, NO2 and NOX measurements with their respective means."
   ]
  },
  {
   "cell_type": "code",
   "execution_count": 67,
   "metadata": {},
   "outputs": [],
   "source": [
    "NO2_rows = df.index[df['Species'] == \"NO2\"].tolist()\n",
    "PM25_rows = df.index[df['Species'] == \"PM2.5\"].tolist()"
   ]
  },
  {
   "cell_type": "code",
   "execution_count": null,
   "metadata": {
    "collapsed": true
   },
   "outputs": [],
   "source": [
    "### trying to set null NO2 rows to mean of NO2, and same for PM2.5"
   ]
  },
  {
   "cell_type": "code",
   "execution_count": null,
   "metadata": {
    "collapsed": true
   },
   "outputs": [],
   "source": [
    "df.loc[df.Species == \"NO2\"])"
   ]
  },
  {
   "cell_type": "code",
   "execution_count": null,
   "metadata": {
    "collapsed": true
   },
   "outputs": [],
   "source": []
  },
  {
   "cell_type": "code",
   "execution_count": 57,
   "metadata": {},
   "outputs": [
    {
     "data": {
      "text/plain": [
       "5754"
      ]
     },
     "execution_count": 57,
     "metadata": {},
     "output_type": "execute_result"
    }
   ],
   "source": [
    "df.Species = df.Species.fillna(df.Species.mean())\n",
    "\n",
    "df"
   ]
  },
  {
   "cell_type": "markdown",
   "metadata": {},
   "source": [
    "And we'll save our newly clean data. Let's give it a new name, to preserve the raw data:"
   ]
  },
  {
   "cell_type": "code",
   "execution_count": 58,
   "metadata": {
    "collapsed": true
   },
   "outputs": [],
   "source": [
    "df.to_csv(\"input_data/nonnull_air_data_harringey.csv\")"
   ]
  },
  {
   "cell_type": "code",
   "execution_count": null,
   "metadata": {
    "collapsed": true
   },
   "outputs": [],
   "source": []
  }
 ],
 "metadata": {
  "kernelspec": {
   "display_name": "Python 2",
   "language": "python",
   "name": "python2"
  },
  "language_info": {
   "codemirror_mode": {
    "name": "ipython",
    "version": 2
   },
   "file_extension": ".py",
   "mimetype": "text/x-python",
   "name": "python",
   "nbconvert_exporter": "python",
   "pygments_lexer": "ipython2",
   "version": "2.7.14"
  }
 },
 "nbformat": 4,
 "nbformat_minor": 2
}
