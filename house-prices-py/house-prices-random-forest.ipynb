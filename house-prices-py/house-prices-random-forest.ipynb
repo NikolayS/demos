{
 "cells": [
  {
   "cell_type": "code",
   "execution_count": 1,
   "metadata": {},
   "outputs": [
    {
     "name": "stderr",
     "output_type": "stream",
     "text": [
      "/Users/kate/anaconda3/lib/python3.6/site-packages/sklearn/cross_validation.py:41: DeprecationWarning: This module was deprecated in version 0.18 in favor of the model_selection module into which all the refactored classes and functions are moved. Also note that the interface of the new CV iterators are different from that of this module. This module will be removed in 0.20.\n",
      "  \"This module will be removed in 0.20.\", DeprecationWarning)\n"
     ]
    }
   ],
   "source": [
    "import pandas as pd\n",
    "import numpy as np\n",
    "from sklearn.cross_validation import train_test_split\n",
    "import matplotlib.pyplot as plt\n",
    "%matplotlib inline\n"
   ]
  },
  {
   "cell_type": "markdown",
   "metadata": {},
   "source": [
    "We are using a housing price dataset sourced from Bay Area Home Sales Database and Zillow. This dataset was based on the homes sold between January 2013 and December 2015. "
   ]
  },
  {
   "cell_type": "code",
   "execution_count": 2,
   "metadata": {},
   "outputs": [],
   "source": [
    "inputs = [pd.read_csv('./agent1/bay_area_zillow_agent1.csv'), pd.read_csv('./agent2/bay_area_zillow_agent2.csv')]\n",
    "df = pd.concat(f for f in inputs)"
   ]
  },
  {
   "cell_type": "code",
   "execution_count": 3,
   "metadata": {},
   "outputs": [],
   "source": [
    "# randomise my dataframe rows to remove any ordering in the data\n",
    "# TODO fix seed to preserve reproducibility\n",
    "df = df.sample(frac=1).reset_index(drop=True)\n"
   ]
  },
  {
   "cell_type": "code",
   "execution_count": 4,
   "metadata": {},
   "outputs": [
    {
     "data": {
      "text/html": [
       "<div>\n",
       "<style scoped>\n",
       "    .dataframe tbody tr th:only-of-type {\n",
       "        vertical-align: middle;\n",
       "    }\n",
       "\n",
       "    .dataframe tbody tr th {\n",
       "        vertical-align: top;\n",
       "    }\n",
       "\n",
       "    .dataframe thead th {\n",
       "        text-align: right;\n",
       "    }\n",
       "</style>\n",
       "<table border=\"1\" class=\"dataframe\">\n",
       "  <thead>\n",
       "    <tr style=\"text-align: right;\">\n",
       "      <th></th>\n",
       "      <th>Unnamed: 0</th>\n",
       "      <th>address</th>\n",
       "      <th>info</th>\n",
       "      <th>z_address</th>\n",
       "      <th>bathrooms</th>\n",
       "      <th>bedrooms</th>\n",
       "      <th>finishedsqft</th>\n",
       "      <th>lastsolddate</th>\n",
       "      <th>lastsoldprice</th>\n",
       "      <th>latitude</th>\n",
       "      <th>longitude</th>\n",
       "      <th>neighborhood</th>\n",
       "      <th>totalrooms</th>\n",
       "      <th>usecode</th>\n",
       "      <th>yearbuilt</th>\n",
       "      <th>zestimate</th>\n",
       "      <th>zindexvalue</th>\n",
       "      <th>zipcode</th>\n",
       "      <th>zpid</th>\n",
       "    </tr>\n",
       "  </thead>\n",
       "  <tbody>\n",
       "    <tr>\n",
       "      <th>count</th>\n",
       "      <td>11330.000000</td>\n",
       "      <td>11330</td>\n",
       "      <td>11330</td>\n",
       "      <td>11330</td>\n",
       "      <td>11330.000000</td>\n",
       "      <td>11330.000000</td>\n",
       "      <td>11330.000000</td>\n",
       "      <td>11330</td>\n",
       "      <td>1.133000e+04</td>\n",
       "      <td>11330.000000</td>\n",
       "      <td>11330.000000</td>\n",
       "      <td>11330</td>\n",
       "      <td>11330.000000</td>\n",
       "      <td>11330</td>\n",
       "      <td>11330.000000</td>\n",
       "      <td>1.133000e+04</td>\n",
       "      <td>1.133000e+04</td>\n",
       "      <td>11330.000000</td>\n",
       "      <td>1.133000e+04</td>\n",
       "    </tr>\n",
       "    <tr>\n",
       "      <th>unique</th>\n",
       "      <td>NaN</td>\n",
       "      <td>10730</td>\n",
       "      <td>11232</td>\n",
       "      <td>10684</td>\n",
       "      <td>NaN</td>\n",
       "      <td>NaN</td>\n",
       "      <td>NaN</td>\n",
       "      <td>954</td>\n",
       "      <td>NaN</td>\n",
       "      <td>NaN</td>\n",
       "      <td>NaN</td>\n",
       "      <td>71</td>\n",
       "      <td>NaN</td>\n",
       "      <td>10</td>\n",
       "      <td>NaN</td>\n",
       "      <td>NaN</td>\n",
       "      <td>NaN</td>\n",
       "      <td>NaN</td>\n",
       "      <td>NaN</td>\n",
       "    </tr>\n",
       "    <tr>\n",
       "      <th>top</th>\n",
       "      <td>NaN</td>\n",
       "      <td>Address: 1300 Eddy Street</td>\n",
       "      <td>San FranciscoSales price: 725000Sales date: 02...</td>\n",
       "      <td>1300 Eddy St</td>\n",
       "      <td>NaN</td>\n",
       "      <td>NaN</td>\n",
       "      <td>NaN</td>\n",
       "      <td>08/30/2013</td>\n",
       "      <td>NaN</td>\n",
       "      <td>NaN</td>\n",
       "      <td>NaN</td>\n",
       "      <td>Mission</td>\n",
       "      <td>NaN</td>\n",
       "      <td>SingleFamily</td>\n",
       "      <td>NaN</td>\n",
       "      <td>NaN</td>\n",
       "      <td>NaN</td>\n",
       "      <td>NaN</td>\n",
       "      <td>NaN</td>\n",
       "    </tr>\n",
       "    <tr>\n",
       "      <th>freq</th>\n",
       "      <td>NaN</td>\n",
       "      <td>5</td>\n",
       "      <td>3</td>\n",
       "      <td>5</td>\n",
       "      <td>NaN</td>\n",
       "      <td>NaN</td>\n",
       "      <td>NaN</td>\n",
       "      <td>46</td>\n",
       "      <td>NaN</td>\n",
       "      <td>NaN</td>\n",
       "      <td>NaN</td>\n",
       "      <td>540</td>\n",
       "      <td>NaN</td>\n",
       "      <td>5803</td>\n",
       "      <td>NaN</td>\n",
       "      <td>NaN</td>\n",
       "      <td>NaN</td>\n",
       "      <td>NaN</td>\n",
       "      <td>NaN</td>\n",
       "    </tr>\n",
       "    <tr>\n",
       "      <th>mean</th>\n",
       "      <td>9171.729214</td>\n",
       "      <td>NaN</td>\n",
       "      <td>NaN</td>\n",
       "      <td>NaN</td>\n",
       "      <td>1.980229</td>\n",
       "      <td>2.614475</td>\n",
       "      <td>1585.420918</td>\n",
       "      <td>NaN</td>\n",
       "      <td>1.263928e+06</td>\n",
       "      <td>37.759711</td>\n",
       "      <td>-122.436518</td>\n",
       "      <td>NaN</td>\n",
       "      <td>6.111562</td>\n",
       "      <td>NaN</td>\n",
       "      <td>1948.498147</td>\n",
       "      <td>1.565695e+06</td>\n",
       "      <td>1.320205e+06</td>\n",
       "      <td>94116.912004</td>\n",
       "      <td>3.689973e+07</td>\n",
       "    </tr>\n",
       "    <tr>\n",
       "      <th>std</th>\n",
       "      <td>4921.941074</td>\n",
       "      <td>NaN</td>\n",
       "      <td>NaN</td>\n",
       "      <td>NaN</td>\n",
       "      <td>1.047358</td>\n",
       "      <td>1.299457</td>\n",
       "      <td>921.978245</td>\n",
       "      <td>NaN</td>\n",
       "      <td>1.042079e+06</td>\n",
       "      <td>0.025578</td>\n",
       "      <td>0.030743</td>\n",
       "      <td>NaN</td>\n",
       "      <td>12.125819</td>\n",
       "      <td>NaN</td>\n",
       "      <td>37.911196</td>\n",
       "      <td>1.229417e+06</td>\n",
       "      <td>5.848170e+05</td>\n",
       "      <td>9.400877</td>\n",
       "      <td>7.800741e+07</td>\n",
       "    </tr>\n",
       "    <tr>\n",
       "      <th>min</th>\n",
       "      <td>2.000000</td>\n",
       "      <td>NaN</td>\n",
       "      <td>NaN</td>\n",
       "      <td>NaN</td>\n",
       "      <td>0.500000</td>\n",
       "      <td>0.000000</td>\n",
       "      <td>1.000000</td>\n",
       "      <td>NaN</td>\n",
       "      <td>5.350000e+02</td>\n",
       "      <td>37.708170</td>\n",
       "      <td>-122.510726</td>\n",
       "      <td>NaN</td>\n",
       "      <td>1.000000</td>\n",
       "      <td>NaN</td>\n",
       "      <td>1860.000000</td>\n",
       "      <td>4.323850e+05</td>\n",
       "      <td>6.881000e+05</td>\n",
       "      <td>94102.000000</td>\n",
       "      <td>1.506329e+07</td>\n",
       "    </tr>\n",
       "    <tr>\n",
       "      <th>25%</th>\n",
       "      <td>5039.750000</td>\n",
       "      <td>NaN</td>\n",
       "      <td>NaN</td>\n",
       "      <td>NaN</td>\n",
       "      <td>1.000000</td>\n",
       "      <td>2.000000</td>\n",
       "      <td>1019.000000</td>\n",
       "      <td>NaN</td>\n",
       "      <td>7.292500e+05</td>\n",
       "      <td>37.739286</td>\n",
       "      <td>-122.455157</td>\n",
       "      <td>NaN</td>\n",
       "      <td>4.000000</td>\n",
       "      <td>NaN</td>\n",
       "      <td>1916.000000</td>\n",
       "      <td>9.052375e+05</td>\n",
       "      <td>9.829000e+05</td>\n",
       "      <td>94110.000000</td>\n",
       "      <td>1.510847e+07</td>\n",
       "    </tr>\n",
       "    <tr>\n",
       "      <th>50%</th>\n",
       "      <td>9198.500000</td>\n",
       "      <td>NaN</td>\n",
       "      <td>NaN</td>\n",
       "      <td>NaN</td>\n",
       "      <td>2.000000</td>\n",
       "      <td>2.000000</td>\n",
       "      <td>1362.000000</td>\n",
       "      <td>NaN</td>\n",
       "      <td>9.900000e+05</td>\n",
       "      <td>37.760513</td>\n",
       "      <td>-122.432510</td>\n",
       "      <td>NaN</td>\n",
       "      <td>5.000000</td>\n",
       "      <td>NaN</td>\n",
       "      <td>1940.000000</td>\n",
       "      <td>1.230758e+06</td>\n",
       "      <td>1.211900e+06</td>\n",
       "      <td>94115.000000</td>\n",
       "      <td>1.515697e+07</td>\n",
       "    </tr>\n",
       "    <tr>\n",
       "      <th>75%</th>\n",
       "      <td>13374.750000</td>\n",
       "      <td>NaN</td>\n",
       "      <td>NaN</td>\n",
       "      <td>NaN</td>\n",
       "      <td>2.000000</td>\n",
       "      <td>3.000000</td>\n",
       "      <td>1876.000000</td>\n",
       "      <td>NaN</td>\n",
       "      <td>1.450000e+06</td>\n",
       "      <td>37.781386</td>\n",
       "      <td>-122.413359</td>\n",
       "      <td>NaN</td>\n",
       "      <td>7.000000</td>\n",
       "      <td>NaN</td>\n",
       "      <td>1986.000000</td>\n",
       "      <td>1.731170e+06</td>\n",
       "      <td>1.480400e+06</td>\n",
       "      <td>94123.000000</td>\n",
       "      <td>5.970040e+07</td>\n",
       "    </tr>\n",
       "    <tr>\n",
       "      <th>max</th>\n",
       "      <td>17632.000000</td>\n",
       "      <td>NaN</td>\n",
       "      <td>NaN</td>\n",
       "      <td>NaN</td>\n",
       "      <td>14.000000</td>\n",
       "      <td>20.000000</td>\n",
       "      <td>27275.000000</td>\n",
       "      <td>NaN</td>\n",
       "      <td>2.388900e+07</td>\n",
       "      <td>37.806083</td>\n",
       "      <td>-122.381201</td>\n",
       "      <td>NaN</td>\n",
       "      <td>1264.000000</td>\n",
       "      <td>NaN</td>\n",
       "      <td>2016.000000</td>\n",
       "      <td>1.553325e+07</td>\n",
       "      <td>5.333500e+06</td>\n",
       "      <td>94158.000000</td>\n",
       "      <td>2.146999e+09</td>\n",
       "    </tr>\n",
       "  </tbody>\n",
       "</table>\n",
       "</div>"
      ],
      "text/plain": [
       "          Unnamed: 0                    address  \\\n",
       "count   11330.000000                      11330   \n",
       "unique           NaN                      10730   \n",
       "top              NaN  Address: 1300 Eddy Street   \n",
       "freq             NaN                          5   \n",
       "mean     9171.729214                        NaN   \n",
       "std      4921.941074                        NaN   \n",
       "min         2.000000                        NaN   \n",
       "25%      5039.750000                        NaN   \n",
       "50%      9198.500000                        NaN   \n",
       "75%     13374.750000                        NaN   \n",
       "max     17632.000000                        NaN   \n",
       "\n",
       "                                                     info     z_address  \\\n",
       "count                                               11330         11330   \n",
       "unique                                              11232         10684   \n",
       "top     San FranciscoSales price: 725000Sales date: 02...  1300 Eddy St   \n",
       "freq                                                    3             5   \n",
       "mean                                                  NaN           NaN   \n",
       "std                                                   NaN           NaN   \n",
       "min                                                   NaN           NaN   \n",
       "25%                                                   NaN           NaN   \n",
       "50%                                                   NaN           NaN   \n",
       "75%                                                   NaN           NaN   \n",
       "max                                                   NaN           NaN   \n",
       "\n",
       "           bathrooms      bedrooms  finishedsqft lastsolddate  lastsoldprice  \\\n",
       "count   11330.000000  11330.000000  11330.000000        11330   1.133000e+04   \n",
       "unique           NaN           NaN           NaN          954            NaN   \n",
       "top              NaN           NaN           NaN   08/30/2013            NaN   \n",
       "freq             NaN           NaN           NaN           46            NaN   \n",
       "mean        1.980229      2.614475   1585.420918          NaN   1.263928e+06   \n",
       "std         1.047358      1.299457    921.978245          NaN   1.042079e+06   \n",
       "min         0.500000      0.000000      1.000000          NaN   5.350000e+02   \n",
       "25%         1.000000      2.000000   1019.000000          NaN   7.292500e+05   \n",
       "50%         2.000000      2.000000   1362.000000          NaN   9.900000e+05   \n",
       "75%         2.000000      3.000000   1876.000000          NaN   1.450000e+06   \n",
       "max        14.000000     20.000000  27275.000000          NaN   2.388900e+07   \n",
       "\n",
       "            latitude     longitude neighborhood    totalrooms       usecode  \\\n",
       "count   11330.000000  11330.000000        11330  11330.000000         11330   \n",
       "unique           NaN           NaN           71           NaN            10   \n",
       "top              NaN           NaN      Mission           NaN  SingleFamily   \n",
       "freq             NaN           NaN          540           NaN          5803   \n",
       "mean       37.759711   -122.436518          NaN      6.111562           NaN   \n",
       "std         0.025578      0.030743          NaN     12.125819           NaN   \n",
       "min        37.708170   -122.510726          NaN      1.000000           NaN   \n",
       "25%        37.739286   -122.455157          NaN      4.000000           NaN   \n",
       "50%        37.760513   -122.432510          NaN      5.000000           NaN   \n",
       "75%        37.781386   -122.413359          NaN      7.000000           NaN   \n",
       "max        37.806083   -122.381201          NaN   1264.000000           NaN   \n",
       "\n",
       "           yearbuilt     zestimate   zindexvalue       zipcode          zpid  \n",
       "count   11330.000000  1.133000e+04  1.133000e+04  11330.000000  1.133000e+04  \n",
       "unique           NaN           NaN           NaN           NaN           NaN  \n",
       "top              NaN           NaN           NaN           NaN           NaN  \n",
       "freq             NaN           NaN           NaN           NaN           NaN  \n",
       "mean     1948.498147  1.565695e+06  1.320205e+06  94116.912004  3.689973e+07  \n",
       "std        37.911196  1.229417e+06  5.848170e+05      9.400877  7.800741e+07  \n",
       "min      1860.000000  4.323850e+05  6.881000e+05  94102.000000  1.506329e+07  \n",
       "25%      1916.000000  9.052375e+05  9.829000e+05  94110.000000  1.510847e+07  \n",
       "50%      1940.000000  1.230758e+06  1.211900e+06  94115.000000  1.515697e+07  \n",
       "75%      1986.000000  1.731170e+06  1.480400e+06  94123.000000  5.970040e+07  \n",
       "max      2016.000000  1.553325e+07  5.333500e+06  94158.000000  2.146999e+09  "
      ]
     },
     "execution_count": 4,
     "metadata": {},
     "output_type": "execute_result"
    }
   ],
   "source": [
    "df.describe(include = \"all\")"
   ]
  },
  {
   "cell_type": "code",
   "execution_count": 5,
   "metadata": {},
   "outputs": [
    {
     "data": {
      "text/plain": [
       "Index(['Unnamed: 0', 'address', 'info', 'z_address', 'bathrooms', 'bedrooms',\n",
       "       'finishedsqft', 'lastsolddate', 'lastsoldprice', 'latitude',\n",
       "       'longitude', 'neighborhood', 'totalrooms', 'usecode', 'yearbuilt',\n",
       "       'zestimate', 'zindexvalue', 'zipcode', 'zpid'],\n",
       "      dtype='object')"
      ]
     },
     "execution_count": 5,
     "metadata": {},
     "output_type": "execute_result"
    }
   ],
   "source": [
    "df.columns"
   ]
  },
  {
   "cell_type": "code",
   "execution_count": 6,
   "metadata": {},
   "outputs": [],
   "source": [
    "# drop unneeded columns\n",
    "df.drop(df.columns[[0, 1, 2, 3, 11, 13, 14, 15, 16, 17, 18]], axis=1, inplace=True)"
   ]
  },
  {
   "cell_type": "code",
   "execution_count": 7,
   "metadata": {},
   "outputs": [
    {
     "data": {
      "text/html": [
       "<div>\n",
       "<style scoped>\n",
       "    .dataframe tbody tr th:only-of-type {\n",
       "        vertical-align: middle;\n",
       "    }\n",
       "\n",
       "    .dataframe tbody tr th {\n",
       "        vertical-align: top;\n",
       "    }\n",
       "\n",
       "    .dataframe thead th {\n",
       "        text-align: right;\n",
       "    }\n",
       "</style>\n",
       "<table border=\"1\" class=\"dataframe\">\n",
       "  <thead>\n",
       "    <tr style=\"text-align: right;\">\n",
       "      <th></th>\n",
       "      <th>bathrooms</th>\n",
       "      <th>bedrooms</th>\n",
       "      <th>finishedsqft</th>\n",
       "      <th>lastsolddate</th>\n",
       "      <th>lastsoldprice</th>\n",
       "      <th>latitude</th>\n",
       "      <th>longitude</th>\n",
       "      <th>totalrooms</th>\n",
       "    </tr>\n",
       "  </thead>\n",
       "  <tbody>\n",
       "    <tr>\n",
       "      <th>count</th>\n",
       "      <td>11330.000000</td>\n",
       "      <td>11330.000000</td>\n",
       "      <td>11330.000000</td>\n",
       "      <td>11330</td>\n",
       "      <td>1.133000e+04</td>\n",
       "      <td>11330.000000</td>\n",
       "      <td>11330.000000</td>\n",
       "      <td>11330.000000</td>\n",
       "    </tr>\n",
       "    <tr>\n",
       "      <th>unique</th>\n",
       "      <td>NaN</td>\n",
       "      <td>NaN</td>\n",
       "      <td>NaN</td>\n",
       "      <td>954</td>\n",
       "      <td>NaN</td>\n",
       "      <td>NaN</td>\n",
       "      <td>NaN</td>\n",
       "      <td>NaN</td>\n",
       "    </tr>\n",
       "    <tr>\n",
       "      <th>top</th>\n",
       "      <td>NaN</td>\n",
       "      <td>NaN</td>\n",
       "      <td>NaN</td>\n",
       "      <td>08/30/2013</td>\n",
       "      <td>NaN</td>\n",
       "      <td>NaN</td>\n",
       "      <td>NaN</td>\n",
       "      <td>NaN</td>\n",
       "    </tr>\n",
       "    <tr>\n",
       "      <th>freq</th>\n",
       "      <td>NaN</td>\n",
       "      <td>NaN</td>\n",
       "      <td>NaN</td>\n",
       "      <td>46</td>\n",
       "      <td>NaN</td>\n",
       "      <td>NaN</td>\n",
       "      <td>NaN</td>\n",
       "      <td>NaN</td>\n",
       "    </tr>\n",
       "    <tr>\n",
       "      <th>mean</th>\n",
       "      <td>1.980229</td>\n",
       "      <td>2.614475</td>\n",
       "      <td>1585.420918</td>\n",
       "      <td>NaN</td>\n",
       "      <td>1.263928e+06</td>\n",
       "      <td>37.759711</td>\n",
       "      <td>-122.436518</td>\n",
       "      <td>6.111562</td>\n",
       "    </tr>\n",
       "    <tr>\n",
       "      <th>std</th>\n",
       "      <td>1.047358</td>\n",
       "      <td>1.299457</td>\n",
       "      <td>921.978245</td>\n",
       "      <td>NaN</td>\n",
       "      <td>1.042079e+06</td>\n",
       "      <td>0.025578</td>\n",
       "      <td>0.030743</td>\n",
       "      <td>12.125819</td>\n",
       "    </tr>\n",
       "    <tr>\n",
       "      <th>min</th>\n",
       "      <td>0.500000</td>\n",
       "      <td>0.000000</td>\n",
       "      <td>1.000000</td>\n",
       "      <td>NaN</td>\n",
       "      <td>5.350000e+02</td>\n",
       "      <td>37.708170</td>\n",
       "      <td>-122.510726</td>\n",
       "      <td>1.000000</td>\n",
       "    </tr>\n",
       "    <tr>\n",
       "      <th>25%</th>\n",
       "      <td>1.000000</td>\n",
       "      <td>2.000000</td>\n",
       "      <td>1019.000000</td>\n",
       "      <td>NaN</td>\n",
       "      <td>7.292500e+05</td>\n",
       "      <td>37.739286</td>\n",
       "      <td>-122.455157</td>\n",
       "      <td>4.000000</td>\n",
       "    </tr>\n",
       "    <tr>\n",
       "      <th>50%</th>\n",
       "      <td>2.000000</td>\n",
       "      <td>2.000000</td>\n",
       "      <td>1362.000000</td>\n",
       "      <td>NaN</td>\n",
       "      <td>9.900000e+05</td>\n",
       "      <td>37.760513</td>\n",
       "      <td>-122.432510</td>\n",
       "      <td>5.000000</td>\n",
       "    </tr>\n",
       "    <tr>\n",
       "      <th>75%</th>\n",
       "      <td>2.000000</td>\n",
       "      <td>3.000000</td>\n",
       "      <td>1876.000000</td>\n",
       "      <td>NaN</td>\n",
       "      <td>1.450000e+06</td>\n",
       "      <td>37.781386</td>\n",
       "      <td>-122.413359</td>\n",
       "      <td>7.000000</td>\n",
       "    </tr>\n",
       "    <tr>\n",
       "      <th>max</th>\n",
       "      <td>14.000000</td>\n",
       "      <td>20.000000</td>\n",
       "      <td>27275.000000</td>\n",
       "      <td>NaN</td>\n",
       "      <td>2.388900e+07</td>\n",
       "      <td>37.806083</td>\n",
       "      <td>-122.381201</td>\n",
       "      <td>1264.000000</td>\n",
       "    </tr>\n",
       "  </tbody>\n",
       "</table>\n",
       "</div>"
      ],
      "text/plain": [
       "           bathrooms      bedrooms  finishedsqft lastsolddate  lastsoldprice  \\\n",
       "count   11330.000000  11330.000000  11330.000000        11330   1.133000e+04   \n",
       "unique           NaN           NaN           NaN          954            NaN   \n",
       "top              NaN           NaN           NaN   08/30/2013            NaN   \n",
       "freq             NaN           NaN           NaN           46            NaN   \n",
       "mean        1.980229      2.614475   1585.420918          NaN   1.263928e+06   \n",
       "std         1.047358      1.299457    921.978245          NaN   1.042079e+06   \n",
       "min         0.500000      0.000000      1.000000          NaN   5.350000e+02   \n",
       "25%         1.000000      2.000000   1019.000000          NaN   7.292500e+05   \n",
       "50%         2.000000      2.000000   1362.000000          NaN   9.900000e+05   \n",
       "75%         2.000000      3.000000   1876.000000          NaN   1.450000e+06   \n",
       "max        14.000000     20.000000  27275.000000          NaN   2.388900e+07   \n",
       "\n",
       "            latitude     longitude    totalrooms  \n",
       "count   11330.000000  11330.000000  11330.000000  \n",
       "unique           NaN           NaN           NaN  \n",
       "top              NaN           NaN           NaN  \n",
       "freq             NaN           NaN           NaN  \n",
       "mean       37.759711   -122.436518      6.111562  \n",
       "std         0.025578      0.030743     12.125819  \n",
       "min        37.708170   -122.510726      1.000000  \n",
       "25%        37.739286   -122.455157      4.000000  \n",
       "50%        37.760513   -122.432510      5.000000  \n",
       "75%        37.781386   -122.413359      7.000000  \n",
       "max        37.806083   -122.381201   1264.000000  "
      ]
     },
     "execution_count": 7,
     "metadata": {},
     "output_type": "execute_result"
    }
   ],
   "source": [
    "df.describe(include = \"all\")"
   ]
  },
  {
   "cell_type": "code",
   "execution_count": 8,
   "metadata": {},
   "outputs": [
    {
     "data": {
      "text/plain": [
       "bathrooms        False\n",
       "bedrooms         False\n",
       "finishedsqft     False\n",
       "lastsolddate     False\n",
       "lastsoldprice    False\n",
       "latitude         False\n",
       "longitude        False\n",
       "totalrooms       False\n",
       "dtype: bool"
      ]
     },
     "execution_count": 8,
     "metadata": {},
     "output_type": "execute_result"
    }
   ],
   "source": [
    "# check none of our data is null or NaN\n",
    "df.isnull().any()"
   ]
  },
  {
   "cell_type": "code",
   "execution_count": 9,
   "metadata": {},
   "outputs": [
    {
     "data": {
      "text/plain": [
       "bathrooms        float64\n",
       "bedrooms           int64\n",
       "finishedsqft       int64\n",
       "lastsolddate      object\n",
       "lastsoldprice      int64\n",
       "latitude         float64\n",
       "longitude        float64\n",
       "totalrooms         int64\n",
       "dtype: object"
      ]
     },
     "execution_count": 9,
     "metadata": {},
     "output_type": "execute_result"
    }
   ],
   "source": [
    "df.dtypes\n"
   ]
  },
  {
   "cell_type": "code",
   "execution_count": 10,
   "metadata": {},
   "outputs": [],
   "source": [
    "df['bathrooms'] = df['bathrooms'].astype('int64', copy=False)\n",
    "df['lastsolddate'] = pd.to_datetime(df['lastsolddate'])\n"
   ]
  },
  {
   "cell_type": "code",
   "execution_count": 11,
   "metadata": {},
   "outputs": [
    {
     "data": {
      "text/plain": [
       "bathrooms                 int64\n",
       "bedrooms                  int64\n",
       "finishedsqft              int64\n",
       "lastsolddate     datetime64[ns]\n",
       "lastsoldprice             int64\n",
       "latitude                float64\n",
       "longitude               float64\n",
       "totalrooms                int64\n",
       "dtype: object"
      ]
     },
     "execution_count": 11,
     "metadata": {},
     "output_type": "execute_result"
    }
   ],
   "source": [
    "df.dtypes"
   ]
  },
  {
   "cell_type": "markdown",
   "metadata": {},
   "source": [
    "We hypothesise that `finishedsqft`, `bathrooms` and `bedrooms` are positively correlated with `lastsoldprice`. Let's plot these to see."
   ]
  },
  {
   "cell_type": "code",
   "execution_count": 12,
   "metadata": {},
   "outputs": [
    {
     "data": {
      "text/plain": [
       "<matplotlib.axes._subplots.AxesSubplot at 0x116f90668>"
      ]
     },
     "execution_count": 12,
     "metadata": {},
     "output_type": "execute_result"
    },
    {
     "data": {
      "image/png": "[encoded data removed]",
      "text/plain": [
       "<Figure size 432x288 with 1 Axes>"
      ]
     },
     "metadata": {},
     "output_type": "display_data"
    },
    {
     "data": {
      "image/png": "[encoded data removed]",
      "text/plain": [
       "<Figure size 432x288 with 1 Axes>"
      ]
     },
     "metadata": {},
     "output_type": "display_data"
    },
    {
     "data": {
      "image/png": "[encoded data removed]",
      "text/plain": [
       "<Figure size 432x288 with 1 Axes>"
      ]
     },
     "metadata": {},
     "output_type": "display_data"
    },
    {
     "data": {
      "image/png": "[encoded data removed]",
      "text/plain": [
       "<Figure size 432x288 with 1 Axes>"
      ]
     },
     "metadata": {},
     "output_type": "display_data"
    }
   ],
   "source": [
    "df.plot(x='finishedsqft', y='lastsoldprice', style='o')\n",
    "df.plot(x='bathrooms', y='lastsoldprice', style='o')\n",
    "df.plot(x='bedrooms', y='lastsoldprice', style='o')\n",
    "df.plot(x='totalrooms', y='lastsoldprice', style='o')"
   ]
  },
  {
   "cell_type": "markdown",
   "metadata": {},
   "source": [
    "Now let's try a random forest model on those features to predict `lastsoldprice`"
   ]
  },
  {
   "cell_type": "code",
   "execution_count": 13,
   "metadata": {},
   "outputs": [],
   "source": [
    "X = df[['bathrooms', 'bedrooms', 'finishedsqft', 'totalrooms', 'longitude', 'latitude']]\n",
    "Y = df['lastsoldprice']"
   ]
  },
  {
   "cell_type": "markdown",
   "metadata": {},
   "source": [
    "These are our features:"
   ]
  },
  {
   "cell_type": "code",
   "execution_count": 14,
   "metadata": {},
   "outputs": [
    {
     "data": {
      "text/html": [
       "<div>\n",
       "<style scoped>\n",
       "    .dataframe tbody tr th:only-of-type {\n",
       "        vertical-align: middle;\n",
       "    }\n",
       "\n",
       "    .dataframe tbody tr th {\n",
       "        vertical-align: top;\n",
       "    }\n",
       "\n",
       "    .dataframe thead th {\n",
       "        text-align: right;\n",
       "    }\n",
       "</style>\n",
       "<table border=\"1\" class=\"dataframe\">\n",
       "  <thead>\n",
       "    <tr style=\"text-align: right;\">\n",
       "      <th></th>\n",
       "      <th>bathrooms</th>\n",
       "      <th>bedrooms</th>\n",
       "      <th>finishedsqft</th>\n",
       "      <th>totalrooms</th>\n",
       "      <th>longitude</th>\n",
       "      <th>latitude</th>\n",
       "    </tr>\n",
       "  </thead>\n",
       "  <tbody>\n",
       "    <tr>\n",
       "      <th>0</th>\n",
       "      <td>2</td>\n",
       "      <td>3</td>\n",
       "      <td>1107</td>\n",
       "      <td>6</td>\n",
       "      <td>-122.505535</td>\n",
       "      <td>37.735935</td>\n",
       "    </tr>\n",
       "    <tr>\n",
       "      <th>1</th>\n",
       "      <td>1</td>\n",
       "      <td>3</td>\n",
       "      <td>1750</td>\n",
       "      <td>5</td>\n",
       "      <td>-122.505268</td>\n",
       "      <td>37.761630</td>\n",
       "    </tr>\n",
       "    <tr>\n",
       "      <th>2</th>\n",
       "      <td>2</td>\n",
       "      <td>3</td>\n",
       "      <td>1452</td>\n",
       "      <td>8</td>\n",
       "      <td>-122.381454</td>\n",
       "      <td>37.728354</td>\n",
       "    </tr>\n",
       "    <tr>\n",
       "      <th>3</th>\n",
       "      <td>2</td>\n",
       "      <td>3</td>\n",
       "      <td>1422</td>\n",
       "      <td>7</td>\n",
       "      <td>-122.465595</td>\n",
       "      <td>37.779585</td>\n",
       "    </tr>\n",
       "    <tr>\n",
       "      <th>4</th>\n",
       "      <td>2</td>\n",
       "      <td>3</td>\n",
       "      <td>2154</td>\n",
       "      <td>9</td>\n",
       "      <td>-122.404821</td>\n",
       "      <td>37.723132</td>\n",
       "    </tr>\n",
       "  </tbody>\n",
       "</table>\n",
       "</div>"
      ],
      "text/plain": [
       "   bathrooms  bedrooms  finishedsqft  totalrooms   longitude   latitude\n",
       "0          2         3          1107           6 -122.505535  37.735935\n",
       "1          1         3          1750           5 -122.505268  37.761630\n",
       "2          2         3          1452           8 -122.381454  37.728354\n",
       "3          2         3          1422           7 -122.465595  37.779585\n",
       "4          2         3          2154           9 -122.404821  37.723132"
      ]
     },
     "execution_count": 14,
     "metadata": {},
     "output_type": "execute_result"
    }
   ],
   "source": [
    "X.head()"
   ]
  },
  {
   "cell_type": "code",
   "execution_count": 28,
   "metadata": {},
   "outputs": [],
   "source": [
    "# Split data into test and training set. Use random_state for reproducibility\n",
    "X_train, X_test, y_train, y_test = train_test_split(X, Y, test_size=0.3, random_state=0)\n",
    "\n",
    "from sklearn.ensemble import RandomForestRegressor\n",
    "from sklearn.model_selection import GridSearchCV\n",
    "\n",
    "param_grid = [\n",
    "    {'n_estimators': [3, 10, 12, 14], 'max_features': [1,2, 3, 4, 5, 6]},\n",
    "    {'bootstrap': [False]}\n",
    "]\n",
    "\n",
    "rand_forest_regressor = RandomForestRegressor()\n",
    "\n",
    "# grid_search = GridSearchCV(rand_forest_regressor, param_grid, cv=5, scoring='neg_mean_squared_error')\n",
    "\n",
    "# grid_search.fit(X_train, y_train)"
   ]
  },
  {
   "cell_type": "code",
   "execution_count": 29,
   "metadata": {},
   "outputs": [
    {
     "data": {
      "text/plain": [
       "dict_keys(['bootstrap', 'criterion', 'max_depth', 'max_features', 'max_leaf_nodes', 'min_impurity_decrease', 'min_impurity_split', 'min_samples_leaf', 'min_samples_split', 'min_weight_fraction_leaf', 'n_estimators', 'n_jobs', 'oob_score', 'random_state', 'verbose', 'warm_start'])"
      ]
     },
     "execution_count": 29,
     "metadata": {},
     "output_type": "execute_result"
    }
   ],
   "source": [
    "rand_forest_regressor.get_params().keys()"
   ]
  },
  {
   "cell_type": "code",
   "execution_count": 30,
   "metadata": {},
   "outputs": [],
   "source": [
    "grid_search = GridSearchCV(rand_forest_regressor, param_grid, cv=5, scoring='neg_mean_squared_error')\n"
   ]
  },
  {
   "cell_type": "code",
   "execution_count": 31,
   "metadata": {},
   "outputs": [],
   "source": [
    "#rand_forest_regressor.fit(X_train, y_train)"
   ]
  },
  {
   "cell_type": "code",
   "execution_count": 32,
   "metadata": {},
   "outputs": [
    {
     "data": {
      "text/plain": [
       "GridSearchCV(cv=5, error_score='raise',\n",
       "       estimator=RandomForestRegressor(bootstrap=True, criterion='mse', max_depth=None,\n",
       "           max_features='auto', max_leaf_nodes=None,\n",
       "           min_impurity_decrease=0.0, min_impurity_split=None,\n",
       "           min_samples_leaf=1, min_samples_split=2,\n",
       "           min_weight_fraction_leaf=0.0, n_estimators=10, n_jobs=1,\n",
       "           oob_score=False, random_state=None, verbose=0, warm_start=False),\n",
       "       fit_params=None, iid=True, n_jobs=1,\n",
       "       param_grid=[{'n_estimators': [3, 10, 12, 14], 'max_features': [1, 2, 3, 4, 5, 6]}, {'bootstrap': [False]}],\n",
       "       pre_dispatch='2*n_jobs', refit=True, return_train_score='warn',\n",
       "       scoring='neg_mean_squared_error', verbose=0)"
      ]
     },
     "execution_count": 32,
     "metadata": {},
     "output_type": "execute_result"
    }
   ],
   "source": [
    "grid_search.fit(X_train, y_train)"
   ]
  },
  {
   "cell_type": "code",
   "execution_count": 33,
   "metadata": {},
   "outputs": [
    {
     "data": {
      "text/plain": [
       "{'max_features': 1, 'n_estimators': 14}"
      ]
     },
     "execution_count": 33,
     "metadata": {},
     "output_type": "execute_result"
    }
   ],
   "source": [
    "grid_search.best_params_"
   ]
  },
  {
   "cell_type": "code",
   "execution_count": 34,
   "metadata": {},
   "outputs": [],
   "source": [
    "y_pred = grid_search.predict(X_test)"
   ]
  },
  {
   "cell_type": "code",
   "execution_count": 35,
   "metadata": {},
   "outputs": [],
   "source": [
    "#rand_forest_regressor.score(X_test, y_test)"
   ]
  },
  {
   "cell_type": "code",
   "execution_count": 36,
   "metadata": {},
   "outputs": [
    {
     "data": {
      "text/plain": [
       "-285759695700.31354"
      ]
     },
     "execution_count": 36,
     "metadata": {},
     "output_type": "execute_result"
    }
   ],
   "source": [
    "grid_search.score(X_test, y_test)"
   ]
  },
  {
   "cell_type": "code",
   "execution_count": 37,
   "metadata": {},
   "outputs": [
    {
     "name": "stdout",
     "output_type": "stream",
     "text": [
      "Linear Regression coefficient of determination (R squared): 285759695700.3135\n"
     ]
    }
   ],
   "source": [
    "print('Linear Regression coefficient of determination (R squared): %.4f' % (0 - grid_search.score(X_test, y_test))) # since score is negative"
   ]
  },
  {
   "cell_type": "code",
   "execution_count": 25,
   "metadata": {},
   "outputs": [
    {
     "name": "stdout",
     "output_type": "stream",
     "text": [
      "Linear Regression RMSE: 515079.9922\n"
     ]
    }
   ],
   "source": [
    "from sklearn.metrics import mean_squared_error\n",
    "lin_mse = mean_squared_error(y_pred, y_test)\n",
    "lin_rmse = np.sqrt(lin_mse)\n",
    "print('Linear Regression RMSE: %.4f' % lin_rmse)"
   ]
  },
  {
   "cell_type": "code",
   "execution_count": null,
   "metadata": {},
   "outputs": [],
   "source": []
  }
 ],
 "metadata": {
  "kernelspec": {
   "display_name": "Python 3",
   "language": "python",
   "name": "python3"
  },
  "language_info": {
   "codemirror_mode": {
    "name": "ipython",
    "version": 3
   },
   "file_extension": ".py",
   "mimetype": "text/x-python",
   "name": "python",
   "nbconvert_exporter": "python",
   "pygments_lexer": "ipython3",
   "version": "3.6.5"
  }
 },
 "nbformat": 4,
 "nbformat_minor": 2
}
