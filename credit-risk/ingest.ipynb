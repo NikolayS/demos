{
 "cells": [
  {
   "cell_type": "markdown",
   "metadata": {
    "_cell_guid": "551ce207-0976-48c3-9242-fac3e6bdf527",
    "_uuid": "66406036d8dd7a0071295d1aee64f13bffc44e3a"
   },
   "source": [
    "![image](https://www.cncf.io/wp-content/uploads/2018/10/dotscience.svg)"
   ]
  },
  {
   "cell_type": "markdown",
   "metadata": {},
   "source": [
    "# Ingesting data from Kaggle\n",
    "\n",
    "The following code ingests data from Kaggle and marks it as the output of a Dotscience run, so that the exact data version and its provenance can be tracked."
   ]
  },
  {
   "cell_type": "code",
   "execution_count": 13,
   "metadata": {},
   "outputs": [],
   "source": [
    "import dotscience as ds\n",
    "ds.interactive() # in a notebook\n",
    "ds.start()       # start a run"
   ]
  },
  {
   "cell_type": "code",
   "execution_count": 14,
   "metadata": {},
   "outputs": [
    {
     "name": "stdout",
     "output_type": "stream",
     "text": [
      "Requirement already satisfied: seaborn in /usr/local/lib/python3.5/dist-packages (0.9.0)\n",
      "Requirement already satisfied: kaggle in /usr/local/lib/python3.5/dist-packages (1.5.3)\n",
      "Requirement already satisfied: matplotlib>=1.4.3 in /usr/local/lib/python3.5/dist-packages (from seaborn) (3.0.1)\n",
      "Requirement already satisfied: scipy>=0.14.0 in /usr/local/lib/python3.5/dist-packages (from seaborn) (1.1.0)\n",
      "Requirement already satisfied: numpy>=1.9.3 in /usr/local/lib/python3.5/dist-packages (from seaborn) (1.15.4)\n",
      "Requirement already satisfied: pandas>=0.15.2 in /usr/local/lib/python3.5/dist-packages (from seaborn) (0.23.4)\n",
      "Requirement already satisfied: python-dateutil in /usr/local/lib/python3.5/dist-packages (from kaggle) (2.7.5)\n",
      "Requirement already satisfied: six>=1.10 in /usr/local/lib/python3.5/dist-packages (from kaggle) (1.11.0)\n",
      "Requirement already satisfied: tqdm in /usr/local/lib/python3.5/dist-packages (from kaggle) (4.32.1)\n",
      "Requirement already satisfied: python-slugify in /usr/local/lib/python3.5/dist-packages (from kaggle) (3.0.2)\n",
      "Requirement already satisfied: urllib3<1.25,>=1.21.1 in /usr/local/lib/python3.5/dist-packages (from kaggle) (1.24.3)\n",
      "Requirement already satisfied: certifi in /usr/local/lib/python3.5/dist-packages (from kaggle) (2019.3.9)\n",
      "Requirement already satisfied: requests in /usr/local/lib/python3.5/dist-packages (from kaggle) (2.22.0)\n",
      "Requirement already satisfied: cycler>=0.10 in /usr/local/lib/python3.5/dist-packages (from matplotlib>=1.4.3->seaborn) (0.10.0)\n",
      "Requirement already satisfied: pyparsing!=2.0.4,!=2.1.2,!=2.1.6,>=2.0.1 in /usr/local/lib/python3.5/dist-packages (from matplotlib>=1.4.3->seaborn) (2.3.0)\n",
      "Requirement already satisfied: kiwisolver>=1.0.1 in /usr/local/lib/python3.5/dist-packages (from matplotlib>=1.4.3->seaborn) (1.0.1)\n",
      "Requirement already satisfied: pytz>=2011k in /usr/local/lib/python3.5/dist-packages (from pandas>=0.15.2->seaborn) (2018.7)\n",
      "Requirement already satisfied: text-unidecode==1.2 in /usr/local/lib/python3.5/dist-packages (from python-slugify->kaggle) (1.2)\n",
      "Requirement already satisfied: idna<2.9,>=2.5 in /usr/local/lib/python3.5/dist-packages (from requests->kaggle) (2.8)\n",
      "Requirement already satisfied: chardet<3.1.0,>=3.0.2 in /usr/local/lib/python3.5/dist-packages (from requests->kaggle) (3.0.4)\n",
      "Requirement already satisfied: setuptools in /usr/local/lib/python3.5/dist-packages (from kiwisolver>=1.0.1->matplotlib>=1.4.3->seaborn) (40.5.0)\n",
      "\u001b[33mYou are using pip version 18.1, however version 19.1.1 is available.\n",
      "You should consider upgrading via the 'pip install --upgrade pip' command.\u001b[0m\n",
      "Warning: Your Kaggle API key is readable by other users on this system! To fix this, you can run 'chmod 600 /root/.kaggle/kaggle.json'\n",
      "home-credit.zip: Skipping, found more recently modified local copy (use --force to force download)\n",
      "Archive:  home-credit.zip\n",
      "  inflating: installments_payments.csv  \n",
      "  inflating: credit_card_balance.csv  \n",
      "  inflating: bureau.csv              \n",
      "  inflating: POS_CASH_balance.csv    \n",
      "  inflating: sample_submission.csv   \n",
      "  inflating: application_train.csv   \n",
      "  inflating: previous_application.csv  \n",
      "  inflating: bureau_balance.csv      \n"
     ]
    }
   ],
   "source": [
    "!pip install seaborn kaggle\n",
    "!mkdir -p ~/.kaggle\n",
    "!echo \"{\\\"username\\\":\\\"hodesdon\\\",\\\"key\\\":\\\"dff06e16436b47c14634841335acb032\\\"}\" > ~/.kaggle/kaggle.json\n",
    "!kaggle datasets download -d julianocosta/home-credit\n",
    "!unzip -o home-credit"
   ]
  },
  {
   "cell_type": "code",
   "execution_count": 15,
   "metadata": {},
   "outputs": [
    {
     "name": "stdout",
     "output_type": "stream",
     "text": [
      "[[DOTSCIENCE-RUN:d9f995d7-6d52-4096-81bd-52000718057f]]{\n",
      "    \"description\": \"Ingested data from Kaggle\",\n",
      "    \"end\": \"20190520T095022.463608\",\n",
      "    \"input\": [\n",
      "        \"installments_payments.csv\",\n",
      "        \"credit_card_balance.csv\",\n",
      "        \"bureau.csv\",\n",
      "        \"sample_submission.csv\",\n",
      "        \"application_train.csv\",\n",
      "        \"POS_CASH_balance.csv\",\n",
      "        \"previous_application.csv\",\n",
      "        \"bureau_balance.csv\"\n",
      "    ],\n",
      "    \"labels\": {},\n",
      "    \"output\": [],\n",
      "    \"parameters\": {},\n",
      "    \"start\": \"20190520T094953.034141\",\n",
      "    \"summary\": {},\n",
      "    \"version\": \"1\"\n",
      "}[[/DOTSCIENCE-RUN:d9f995d7-6d52-4096-81bd-52000718057f]]\n"
     ]
    }
   ],
   "source": [
    "ds.add_inputs(\n",
    "    \"installments_payments.csv\",\n",
    "    \"credit_card_balance.csv\",\n",
    "    \"bureau.csv\",\n",
    "    \"POS_CASH_balance.csv\",\n",
    "    \"sample_submission.csv\",\n",
    "    \"application_train.csv\",\n",
    "    \"previous_application.csv\",\n",
    "    \"bureau_balance.csv\",\n",
    ")\n",
    "ds.publish(\"Ingested data from Kaggle\")"
   ]
  },
  {
   "cell_type": "code",
   "execution_count": null,
   "metadata": {},
   "outputs": [],
   "source": []
  }
 ],
 "metadata": {
  "kernelspec": {
   "display_name": "Python 3",
   "language": "python",
   "name": "python3"
  },
  "language_info": {
   "codemirror_mode": {
    "name": "ipython",
    "version": 3
   },
   "file_extension": ".py",
   "mimetype": "text/x-python",
   "name": "python",
   "nbconvert_exporter": "python",
   "pygments_lexer": "ipython3",
   "version": "3.5.2"
  }
 },
 "nbformat": 4,
 "nbformat_minor": 2
}
