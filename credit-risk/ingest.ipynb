{
 "cells": [
  {
   "cell_type": "markdown",
   "metadata": {},
   "source": [
    "# Ingesting data from Kaggle\n",
    "\n",
    "The following code ingests data from Kaggle and marks it as the output of a Dotscience run, so that the exact data version and its provenance can be tracked."
   ]
  },
  {
   "cell_type": "code",
   "execution_count": null,
   "metadata": {},
   "outputs": [],
   "source": [
    "import dotscience as ds\n",
    "ds.interactive() # in a notebook\n",
    "ds.start()       # start a run"
   ]
  },
  {
   "cell_type": "code",
   "execution_count": null,
   "metadata": {},
   "outputs": [],
   "source": [
    "!pip install seaborn kaggle\n",
    "!mkdir -p ~/.kaggle\n",
    "!echo \"{\\\"username\\\":\\\"hodesdon\\\",\\\"key\\\":\\\"dff06e16436b47c14634841335acb032\\\"}\" > ~/.kaggle/kaggle.json\n",
    "!kaggle datasets download -d julianocosta/home-credit\n",
    "!unzip -o home-credit\n",
    "!rm home-credit.zip"
   ]
  },
  {
   "cell_type": "code",
   "execution_count": null,
   "metadata": {},
   "outputs": [],
   "source": [
    "ds.add_outputs(\n",
    "    \"installments_payments.csv\",\n",
    "    \"credit_card_balance.csv\",\n",
    "    \"bureau.csv\",\n",
    "    \"POS_CASH_balance.csv\",\n",
    "    \"sample_submission.csv\",\n",
    "    \"application_train.csv\",\n",
    "    \"previous_application.csv\",\n",
    "    \"bureau_balance.csv\",\n",
    ")\n",
    "ds.publish(\"Ingested data from Kaggle\")"
   ]
  }
 ],
 "metadata": {
  "kernelspec": {
   "display_name": "Python 3",
   "language": "python",
   "name": "python3"
  },
  "language_info": {
   "codemirror_mode": {
    "name": "ipython",
    "version": 3
   },
   "file_extension": ".py",
   "mimetype": "text/x-python",
   "name": "python",
   "nbconvert_exporter": "python",
   "pygments_lexer": "ipython3",
   "version": "3.5.2"
  }
 },
 "nbformat": 4,
 "nbformat_minor": 2
}
