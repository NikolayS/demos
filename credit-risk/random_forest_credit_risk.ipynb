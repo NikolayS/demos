{
 "cells": [
  {
   "cell_type": "markdown",
   "metadata": {
    "_cell_guid": "551ce207-0976-48c3-9242-fac3e6bdf527",
    "_uuid": "66406036d8dd7a0071295d1aee64f13bffc44e3a"
   },
   "source": [
    "![image](https://www.cncf.io/wp-content/uploads/2018/10/dotscience.svg)"
   ]
  },
  {
   "cell_type": "markdown",
   "metadata": {},
   "source": [
    "# Home Credit Default Risk\n",
    "\n",
    "## Data\n",
    "\n",
    "We are using data provided by [Home Credit](http://www.homecredit.net/about-us.aspx) a service dedicated to provided lines of credit (loans) to the unbanked population. \n",
    "\n",
    "There are 7 sources of data. We track them all as `ds.input`s:\n",
    "\n",
    "* application_train/application_test: the main training and testing data with information about each loan application at Home Credit. Every loan has its own row. The training application data comes with the `TARGET` indicating 0: the loan was repaid or 1: the loan was not repaid. \n",
    "* bureau: data concerning client's previous credits from other financial institutions. Each previous credit has its own row in bureau, but one loan in the application data can have multiple previous credits.\n",
    "* bureau_balance: monthly data about the previous credits in bureau. Each row is one month of a previous credit, and a single previous credit can have multiple rows, one for each month of the credit length. \n",
    "* previous_application: previous applications for loans at Home Credit of clients who have loans in the application data. Each current loan in the application data can have multiple previous loans. Each previous application has one row and is identified by the feature `SK_ID_PREV`. \n",
    "* POS_CASH_BALANCE: monthly data about previous point of sale or cash loans clients have had with Home Credit. Each row is one month of a previous point of sale or cash loan, and a single previous loan can have many rows.\n",
    "* credit_card_balance: monthly data about previous credit cards clients have had with Home Credit. Each row is one month of a credit card balance, and a single credit card can have many rows.\n",
    "* installments_payment: payment history for previous loans at Home Credit. There is one row for every made payment and one row for every missed payment. \n",
    "\n",
    "This diagram shows how all of the data is related:\n",
    "\n",
    "![image](https://storage.googleapis.com/kaggle-media/competitions/home-credit/home_credit.png)\n"
   ]
  },
  {
   "cell_type": "markdown",
   "metadata": {
    "_cell_guid": "d632b08c-d252-4238-b496-e2c6edebec4b",
    "_uuid": "eb13bf76d4e1e60d0703856ec391cdc2c5bdf1fb"
   },
   "source": [
    "## Imports"
   ]
  },
  {
   "cell_type": "code",
   "execution_count": null,
   "metadata": {
    "_cell_guid": "b1076dfc-b9ad-4769-8c92-a6c4dae69d19",
    "_uuid": "8f2839f25d086af736a60e9eeb907d3b93b6e0e5"
   },
   "outputs": [],
   "source": [
    "import numpy as np\n",
    "import pandas as pd \n",
    "from sklearn.preprocessing import LabelEncoder\n",
    "import os\n",
    "import matplotlib.pyplot as plt\n",
    "import seaborn as sns\n",
    "%matplotlib inline\n",
    "\n",
    "# Suppress warnings \n",
    "import warnings\n",
    "warnings.filterwarnings('ignore')\n",
    "\n",
    "# get dotscience\n",
    "import dotscience as ds\n",
    "\n"
   ]
  },
  {
   "cell_type": "code",
   "execution_count": null,
   "metadata": {},
   "outputs": [],
   "source": [
    "%matplotlib inline"
   ]
  },
  {
   "cell_type": "markdown",
   "metadata": {},
   "source": [
    "# Start logging with Dotscience"
   ]
  },
  {
   "cell_type": "code",
   "execution_count": null,
   "metadata": {},
   "outputs": [],
   "source": [
    "ds.interactive()\n",
    "ds.start()"
   ]
  },
  {
   "cell_type": "markdown",
   "metadata": {
    "_cell_guid": "a5e67831-4751-4f11-8e07-527e3e092671",
    "_uuid": "ded520f73b9e94ed47ac2e994a5fb1bcb9093d0f"
   },
   "source": [
    "## Read in Data \n"
   ]
  },
  {
   "cell_type": "code",
   "execution_count": null,
   "metadata": {},
   "outputs": [],
   "source": [
    "from os import listdir\n",
    "from os.path import isfile, join\n",
    "onlyfiles = [f for f in listdir(os.getcwd()) if (isfile(join(os.getcwd(), f)) and f.endswith('csv'))]"
   ]
  },
  {
   "cell_type": "code",
   "execution_count": null,
   "metadata": {},
   "outputs": [],
   "source": [
    "# Start tracking files with Dotscience\n",
    "for file in onlyfiles:\n",
    "    ds.input(file)"
   ]
  },
  {
   "cell_type": "code",
   "execution_count": null,
   "metadata": {
    "_cell_guid": "79c7e3d0-c299-4dcb-8224-4455121ee9b0",
    "_uuid": "d629ff2d2480ee46fbb7e2d37f6b5fab8052498a"
   },
   "outputs": [],
   "source": [
    "# Training data\n",
    "app_train = pd.read_csv('application_train.csv')\n",
    "app_train.rename(columns={'SK_ID_CURR':'Loan_ID'}, inplace=True) \n",
    "print('Training data shape: ', app_train.shape)\n",
    "app_train.head()\n",
    "\n",
    "# Or, uncomment this to see all the features\n",
    "# with pd.option_context(\"display.max_columns\", 122):\n",
    "#    print(app_train.head())"
   ]
  },
  {
   "cell_type": "markdown",
   "metadata": {
    "_uuid": "4695541966d3d29e8a7a8975b072d01caff1631d"
   },
   "source": [
    "The training data has 307511 observations (each one a separate loan) and 122 features (variables) including the `TARGET` (the label we want to predict)."
   ]
  },
  {
   "cell_type": "code",
   "execution_count": null,
   "metadata": {
    "_cell_guid": "d077aee0-5271-440e-bc07-6087eab40b74",
    "_uuid": "cbd1c4111df6f07bc0d479b51f50895e728b717a"
   },
   "outputs": [],
   "source": [
    "# Testing data features\n",
    "app_test = pd.read_csv('application_test.csv')\n",
    "app_test.rename(columns={'SK_ID_CURR':'Loan_ID'}, inplace=True)\n",
    "print('Testing data shape: ', app_test.shape)\n",
    "app_test.head()\n",
    "\n"
   ]
  },
  {
   "cell_type": "markdown",
   "metadata": {
    "_uuid": "0b1a02afd367d1c4ee3a3a936382ca42fb921b9d"
   },
   "source": [
    "# Exploratory Data Analysis"
   ]
  },
  {
   "cell_type": "markdown",
   "metadata": {
    "_cell_guid": "23b20e53-3484-4c4b-bec9-2d8ac2ac918d",
    "_uuid": "7c006a09627df1333c557dc11a09f372bde34dda"
   },
   "source": [
    "## Examine the Distribution of the Target\n",
    "\n",
    "0 indicates that the loan was repaid on time. 1 indicates that the client had payment difficulties."
   ]
  },
  {
   "cell_type": "code",
   "execution_count": null,
   "metadata": {
    "_cell_guid": "5fb6ab16-1b38-4ecf-8123-e48c7c061773",
    "_uuid": "2163ca09678b53dbe88388ccbc7d0e0f7d6c6230"
   },
   "outputs": [],
   "source": [
    "app_train['TARGET'].value_counts()"
   ]
  },
  {
   "cell_type": "code",
   "execution_count": null,
   "metadata": {
    "_cell_guid": "0e93c1e2-f6b8-4a0b-82b6-7dad8df56048",
    "_uuid": "1b2611fb3cf392023c3f40fd2f7b96f56f5dee7d"
   },
   "outputs": [],
   "source": [
    "app_train['TARGET'].astype(int).plot.hist();"
   ]
  },
  {
   "cell_type": "markdown",
   "metadata": {
    "_cell_guid": "95627792-157e-457a-88a8-3b3875c7e1d5",
    "_uuid": "46f5bf9a6de52e270aa911ffd895e704da5426ec"
   },
   "source": [
    "## Encode Categorical Variables\n",
    "\n",
    "For any categorical variable (`dtype == object`) with 2 unique categories, we will use label encoding, and for any categorical variable with more than 2 unique categories, we will use one-hot encoding. \n",
    "\n",
    "For label encoding, we use the Scikit-Learn `LabelEncoder` and for one-hot encoding, the pandas `get_dummies(df)` function."
   ]
  },
  {
   "cell_type": "code",
   "execution_count": null,
   "metadata": {
    "_cell_guid": "70641d4d-1075-4837-8972-e58d70d8f242",
    "_uuid": "ddfaae5c3dcc7ec6bb47a2dffc10d364e8d25355"
   },
   "outputs": [],
   "source": [
    "# Create a label encoder object\n",
    "le = LabelEncoder()\n",
    "le_count = 0\n",
    "\n",
    "# Iterate through the columns\n",
    "for col in app_train:\n",
    "    if app_train[col].dtype == 'object':\n",
    "        # If 2 or fewer unique categories\n",
    "        if len(list(app_train[col].unique())) <= 2:\n",
    "            # Train on the training data\n",
    "            le.fit(app_train[col])\n",
    "            # Transform both training and testing data\n",
    "            app_train[col] = le.transform(app_train[col])\n",
    "            app_test[col] = le.transform(app_test[col])\n",
    "            \n",
    "            # Keep track of how many columns were label encoded\n",
    "            le_count += 1\n",
    "            \n",
    "print('%d columns were label encoded.' % le_count)"
   ]
  },
  {
   "cell_type": "code",
   "execution_count": null,
   "metadata": {
    "_cell_guid": "0851773b-39fd-4cf0-9a66-e30adeef3e57",
    "_uuid": "6796c6dc793a08e162b6e20c6f185ef37bdf51f3"
   },
   "outputs": [],
   "source": [
    "# one-hot encoding of categorical variables\n",
    "app_train = pd.get_dummies(app_train)\n",
    "app_test = pd.get_dummies(app_test)\n",
    "\n",
    "print('Training Features shape: ', app_train.shape)\n",
    "print('Testing Features shape: ', app_test.shape)"
   ]
  },
  {
   "cell_type": "markdown",
   "metadata": {
    "_cell_guid": "61d910b5-84f5-4655-bd8a-d29672c13741",
    "_uuid": "1b2c4198638ec8e5155097d112249de8754eb5c0"
   },
   "source": [
    "### Aligning Training and Testing Data\n",
    "\n",
    "We want to retain the same features (columns) in both the training and testing data. So, let's encode the test data in the same way as the training data."
   ]
  },
  {
   "cell_type": "code",
   "execution_count": null,
   "metadata": {
    "_cell_guid": "d99ca215-e893-490c-a6a4-83f3e8a067b3",
    "_uuid": "e0d12a13cb95521c19b10d8829e8abe2b1118396"
   },
   "outputs": [],
   "source": [
    "train_labels = app_train['TARGET']\n",
    "\n",
    "# Align the training and testing data, keep only columns present in both dataframes\n",
    "app_train, app_test = app_train.align(app_test, join = 'inner', axis = 1)\n",
    "\n",
    "# Add the target back in\n",
    "app_train['TARGET'] = train_labels\n",
    "\n",
    "print('Training Features shape: ', app_train.shape)\n",
    "print('Testing Features shape: ', app_test.shape)"
   ]
  },
  {
   "cell_type": "markdown",
   "metadata": {
    "_uuid": "802ffdbae02e43a9ca4e256ffcd6bd40ae15f3e9"
   },
   "source": [
    "The training and testing datasets now have the same features which is required for machine learning. The number of features has grown significantly due to one-hot encoding. At some point we probably will want to try [dimensionality reduction (removing features that are not relevant)](https://en.wikipedia.org/wiki/Dimensionality_reduction) to reduce the size of the datasets."
   ]
  },
  {
   "cell_type": "markdown",
   "metadata": {
    "_uuid": "fd656b392faad3b34ecfa448b55ad03e75449e0a"
   },
   "source": [
    "## Correlations\n",
    "\n",
    "### Correlation with `TARGET` label"
   ]
  },
  {
   "cell_type": "code",
   "execution_count": null,
   "metadata": {
    "_cell_guid": "02acdb8d-d95f-41b9-8ad1-e2b6cb26f398",
    "_uuid": "d39d15d64db1f2c9015c6f542911ef9a9cac119e"
   },
   "outputs": [],
   "source": [
    "# Find correlations with the target and sort\n",
    "correlations = app_train.corr()['TARGET'].sort_values()\n",
    "\n",
    "# Display correlations\n",
    "print('Most Positive Correlations:\\n', correlations.tail(15))\n",
    "print('\\nMost Negative Correlations:\\n', correlations.head(15))"
   ]
  },
  {
   "cell_type": "markdown",
   "metadata": {},
   "source": [
    "### Correlation between features\n",
    "Let's dig into some initially promising sounding features. We'll see how they are related, and how each one is distributed."
   ]
  },
  {
   "cell_type": "code",
   "execution_count": null,
   "metadata": {},
   "outputs": [],
   "source": [
    "reduced_df = app_train[['OCCUPATION_TYPE_Laborers', 'DAYS_EMPLOYED', 'DAYS_BIRTH', 'DAYS_LAST_PHONE_CHANGE', 'NAME_EDUCATION_TYPE_Secondary / secondary special', 'NAME_EDUCATION_TYPE_Higher education', 'NAME_INCOME_TYPE_Pensioner', 'TARGET',]]\n",
    "\n",
    "corrs = reduced_df.corr()\n",
    "# Heatmap of correlations\n",
    "sns.heatmap(corrs, cmap = plt.cm.PuRd, vmin = -0.25, annot = True, vmax = 0.6)\n",
    "plt.title('Correlation Heatmap');"
   ]
  },
  {
   "cell_type": "code",
   "execution_count": null,
   "metadata": {},
   "outputs": [],
   "source": [
    "fig = plt.figure(figsize = (20,20))\n",
    "ax = fig.gca()\n",
    "app_train[['OCCUPATION_TYPE_Laborers', 'DAYS_EMPLOYED', \n",
    "           'DAYS_BIRTH', 'DAYS_LAST_PHONE_CHANGE', \n",
    "           'NAME_EDUCATION_TYPE_Secondary / secondary special', \n",
    "           'NAME_EDUCATION_TYPE_Higher education', \n",
    "           'NAME_INCOME_TYPE_Pensioner']].hist(ax = ax, edgecolor = 'k')\n",
    "\n"
   ]
  },
  {
   "cell_type": "markdown",
   "metadata": {
    "_cell_guid": "0f7b1cfb-9e5c-4720-9618-ad326940f3f3",
    "_uuid": "c1b831b6d1c3221efb123fbc1a4882aa1f598ec0"
   },
   "source": [
    "### Effect of Age on Repayment\n",
    "\n",
    "We can dig into one feature in particular..."
   ]
  },
  {
   "cell_type": "code",
   "execution_count": null,
   "metadata": {},
   "outputs": [],
   "source": [
    "# Find the correlation of the positive days since birth and target\n",
    "app_train['DAYS_BIRTH'] = abs(app_train['DAYS_BIRTH'])\n",
    "app_train['DAYS_BIRTH'].corr(app_train['TARGET'])"
   ]
  },
  {
   "cell_type": "markdown",
   "metadata": {
    "_cell_guid": "3fde277c-ebf1-4eaf-a353-c18fc4b518a6",
    "_uuid": "2b95e2c33bdd50682e7105d0f27b9cc3ad5b482d"
   },
   "source": [
    "As the client gets older, there is a negative linear relationship with the target meaning that as clients get older, they tend to repay their loans on time more often. \n"
   ]
  },
  {
   "cell_type": "code",
   "execution_count": null,
   "metadata": {
    "_cell_guid": "35e36393-e388-488e-ba7a-7473169d3e6f",
    "_uuid": "739226c4594130d6aabeb25ffb8742c37657d7a4"
   },
   "outputs": [],
   "source": [
    "# plt.style.use('fivethirtyeight')\n",
    "\n",
    "# Plot the distribution of ages in years\n",
    "plt.hist(app_train['DAYS_BIRTH'] / 365, edgecolor = 'k', bins = 25)\n",
    "plt.title('Age of Client'); plt.xlabel('Age (years)'); plt.ylabel('Count');"
   ]
  },
  {
   "cell_type": "markdown",
   "metadata": {
    "_cell_guid": "02f5d3c5-e527-430b-a38d-531aeb8f3dd1",
    "_uuid": "340680b4a4ecf310a6369808157b17cac7c13461"
   },
   "source": [
    "The distribution of age shows that there are no outliers."
   ]
  },
  {
   "cell_type": "code",
   "execution_count": null,
   "metadata": {
    "_cell_guid": "3982a18f-2731-4bb2-80c9-831b2377421f",
    "_uuid": "2e045e65f048789b577477356df4337c9e5e2087"
   },
   "outputs": [],
   "source": [
    "plt.figure(figsize = (10, 8))\n",
    "\n",
    "# KDE plot of loans that were repaid on time\n",
    "sns.kdeplot(app_train.loc[app_train['TARGET'] == 0, 'DAYS_BIRTH'] / 365, label = 'target == 0')\n",
    "\n",
    "# KDE plot of loans which were not repaid on time\n",
    "sns.kdeplot(app_train.loc[app_train['TARGET'] == 1, 'DAYS_BIRTH'] / 365, label = 'target == 1')\n",
    "\n",
    "# Labeling of plot\n",
    "plt.xlabel('Age (years)'); plt.ylabel('Density'); plt.title('Distribution of Ages');"
   ]
  },
  {
   "cell_type": "markdown",
   "metadata": {
    "_cell_guid": "9749e164-efea-47d2-ab60-5a8b89ff0570",
    "_uuid": "57757e02285b8067b61e3f586174ad64bec78ac1"
   },
   "source": [
    "The `TARGET == 1` curve skews towards the younger end of the range. "
   ]
  },
  {
   "cell_type": "code",
   "execution_count": null,
   "metadata": {
    "_cell_guid": "4296e926-7245-40df-bb0a-f6e59d8e566a",
    "_uuid": "6c50572f095bff250bfed1993e2c53118277b5dd"
   },
   "outputs": [],
   "source": [
    "# Age information into a separate dataframe\n",
    "age_data = app_train[['TARGET', 'DAYS_BIRTH']]\n",
    "age_data['YEARS_BIRTH'] = age_data['DAYS_BIRTH'] / 365\n",
    "\n",
    "# Bin the age data\n",
    "age_data['YEARS_BINNED'] = pd.cut(age_data['YEARS_BIRTH'], bins = np.linspace(20, 70, num = 11))\n",
    "age_data.head(10)\n",
    "\n",
    "# Let's write this out to csv\n",
    "age_data.to_csv('repayment_by_age_group.csv', index = False)\n",
    "ds.add_output('repayment_by_age_group.csv')"
   ]
  },
  {
   "cell_type": "code",
   "execution_count": null,
   "metadata": {
    "_cell_guid": "18873d6b-3877-4c77-830e-0f3e10e5e7fb",
    "_uuid": "7082483e5fd9114856926de28968e5ae0b478b36"
   },
   "outputs": [],
   "source": [
    "# Group by the bin and calculate averages\n",
    "age_groups  = age_data.groupby('YEARS_BINNED').mean()\n",
    "age_groups"
   ]
  },
  {
   "cell_type": "code",
   "execution_count": null,
   "metadata": {
    "_cell_guid": "004d1021-d73f-4356-9ef8-0464c95d1708",
    "_uuid": "823b5032f472b05ce079ae5a7680389f31ddd8b7"
   },
   "outputs": [],
   "source": [
    "plt.figure(figsize = (8, 8))\n",
    "\n",
    "# Graph the age bins and the average of the target as a bar plot\n",
    "plt.bar(age_groups.index.astype(str), 100 * age_groups['TARGET'])\n",
    "\n",
    "# Plot labeling\n",
    "plt.xticks(rotation = 75); plt.xlabel('Age Group (years)'); plt.ylabel('Failure to Repay (%)')\n",
    "plt.title('Failure to Repay by Age Group');"
   ]
  },
  {
   "cell_type": "markdown",
   "metadata": {
    "_cell_guid": "2dad060f-bcab-4fe3-aa19-29fbf3e6fdab",
    "_uuid": "eb2bd6392ed6d6f7e002bc8dbea6aab0f30487d9"
   },
   "source": [
    "There is a clear trend: younger applicants are more likely to default on the loan. The rate of failure to repay is above 10% for the youngest three age groups and beolow 5% for the oldest age group.\n",
    "\n",
    "This is information that could be directly used by the bank."
   ]
  },
  {
   "cell_type": "markdown",
   "metadata": {
    "_cell_guid": "ebb64e63-6222-4509-a43c-302c6435ce09",
    "_uuid": "8bf057e523b2d99833f6dc9d95fe6141fb4e325a"
   },
   "source": [
    "# Make the model\n",
    "\n",
    "We implement a [random forest model with Scikit-Learn](https://scikit-learn.org/stable/modules/ensemble.html#forest). We want to predict probabilities (floats in the range [0, 1]) that unlabeled clients will default on credit repayments.\n",
    "\n",
    "### Preprocessing\n",
    "We fill in missing values with the median of their respective columns (imputation) and normalize the feature ranges (scaling)."
   ]
  },
  {
   "cell_type": "code",
   "execution_count": null,
   "metadata": {
    "_cell_guid": "60ef8744-ca3a-4810-8439-2835fbfc1833",
    "_uuid": "784ae2f91cf7792702595a9973ba773b2acdec00"
   },
   "outputs": [],
   "source": [
    "from sklearn.preprocessing import MinMaxScaler, Imputer\n",
    "\n",
    "# Drop the target from the training data\n",
    "if 'TARGET' in app_train:\n",
    "    train = app_train.drop(columns = ['TARGET'])\n",
    "else:\n",
    "    train = app_train.copy()\n",
    "    \n",
    "# Feature names\n",
    "features = list(train.columns)\n",
    "\n",
    "# Copy the testing data\n",
    "test = app_test.copy()\n",
    "\n",
    "# Median imputation of missing values\n",
    "imputer = Imputer(strategy = 'median')\n",
    "\n",
    "# Scale each feature to 0-1\n",
    "scaler = MinMaxScaler(feature_range = (0, 1))\n",
    "\n",
    "# Fit on the training data\n",
    "imputer.fit(train)\n",
    "\n",
    "# Transform both training and testing data\n",
    "train = imputer.transform(train)\n",
    "test = imputer.transform(app_test)\n",
    "\n",
    "# Repeat with the scaler\n",
    "scaler.fit(train)\n",
    "train = scaler.transform(train)\n",
    "test = scaler.transform(test)\n",
    "\n",
    "print('Training data shape: ', train.shape)\n",
    "print('Testing data shape: ', test.shape)"
   ]
  },
  {
   "cell_type": "markdown",
   "metadata": {},
   "source": [
    "## Train the model and get summary metrics\n",
    "We use a random forest model.\n",
    "\n",
    "We can parameterise with the number of trees to build, `max_features` to use, and with [warm_start](https://scikit-learn.org/stable/glossary.html#term-warm-start). We set `n_jobs` to -1 to use all available cores."
   ]
  },
  {
   "cell_type": "code",
   "execution_count": null,
   "metadata": {},
   "outputs": [],
   "source": [
    "from sklearn.ensemble import RandomForestClassifier\n",
    "\n",
    "# Make the random forest classifier\n",
    "# NB setting n_jobs to -1 will take advantage of all processors to run jobs in parallel\n",
    "random_forest = RandomForestClassifier(n_estimators = ds.parameter(\"n_estimators\", 100), random_state = 50, \n",
    "                                       verbose = 1, n_jobs = -1, oob_score=True, warm_start = (ds.parameter(\"warm_start\", True)))\n",
    "#random_forest.fit(train, train_labels)\n"
   ]
  },
  {
   "cell_type": "markdown",
   "metadata": {},
   "source": [
    "Use `ds.summary()` to grab the model's accuracy metric, returned by its `.score()` method. For a random forest model, this is the mean accuracy score. If we had more time to run the model, we could use cross validation to get a metric value instead instead."
   ]
  },
  {
   "cell_type": "code",
   "execution_count": null,
   "metadata": {},
   "outputs": [],
   "source": [
    "# Train on the training data\n",
    "%time random_forest.fit(train, train_labels)\n"
   ]
  },
  {
   "cell_type": "code",
   "execution_count": null,
   "metadata": {},
   "outputs": [],
   "source": [
    "# Get out of bag score\n",
    "print(ds.summary(\"out_of_bag_score\", random_forest.oob_score_))"
   ]
  },
  {
   "cell_type": "markdown",
   "metadata": {},
   "source": [
    "## Make predictions\n",
    "We want to predict the probability of defaulting, so we use the model's `predict.proba` method. This returns an `m` x 2 array where `m` is the number of test records. The first column is the probability of the target being 0 (indicating no default) and the second column is the probability of the target being 1 (indicating a default), so for a single row, the two columns must sum to 1. \n",
    "\n",
    "We will output the probability the loan is _not_ repaid, so we select the second column."
   ]
  },
  {
   "cell_type": "code",
   "execution_count": null,
   "metadata": {
    "_cell_guid": "020f0856-8f24-4b22-bca5-aac7f137f032",
    "_uuid": "52258a9b89b3069bc1d82829107e8e7c1ef05fd6"
   },
   "outputs": [],
   "source": [
    "# Make predictions on the test data\n",
    "%time rand_forest_predictions = random_forest.predict_proba(test)[:, 1]"
   ]
  },
  {
   "cell_type": "markdown",
   "metadata": {},
   "source": [
    "### Output predictions to csv"
   ]
  },
  {
   "cell_type": "code",
   "execution_count": null,
   "metadata": {
    "_cell_guid": "25145966-669e-426d-89a3-98e30b861057",
    "_uuid": "1da4b02502388d2b8a2bc5376027c5bef50272f3"
   },
   "outputs": [],
   "source": [
    "predictions_df = app_test[['Loan_ID']]\n",
    "predictions_df['TARGET'] = rand_forest_predictions\n",
    "\n",
    "# Save the dataframe as a csv\n",
    "predictions_df.to_csv('random_forest_predictions.csv', index = False)\n",
    "ds.add_output('random_forest_predictions.csv')"
   ]
  },
  {
   "cell_type": "code",
   "execution_count": null,
   "metadata": {},
   "outputs": [],
   "source": [
    "predictions_df.head()"
   ]
  },
  {
   "cell_type": "markdown",
   "metadata": {},
   "source": [
    "The predictions show the probability that the loan will not be repaid. The user of the model can chose a threshold beyond which the risk of default is too high, and use this data to make lending decisions."
   ]
  },
  {
   "cell_type": "code",
   "execution_count": null,
   "metadata": {
    "_uuid": "a7e9a1149953069853d4d83ec46f22084dce8711"
   },
   "outputs": [],
   "source": [
    "ds.publish()"
   ]
  },
  {
   "cell_type": "code",
   "execution_count": null,
   "metadata": {},
   "outputs": [],
   "source": []
  }
 ],
 "metadata": {
  "kernelspec": {
   "display_name": "Python 3",
   "language": "python",
   "name": "python3"
  },
  "language_info": {
   "codemirror_mode": {
    "name": "ipython",
    "version": 3
   },
   "file_extension": ".py",
   "mimetype": "text/x-python",
   "name": "python",
   "nbconvert_exporter": "python",
   "pygments_lexer": "ipython3",
   "version": "3.5.2"
  }
 },
 "nbformat": 4,
 "nbformat_minor": 2
}
