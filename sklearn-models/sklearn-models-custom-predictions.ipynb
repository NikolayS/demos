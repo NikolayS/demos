{
 "cells": [
  {
   "cell_type": "markdown",
   "metadata": {},
   "source": [
    "# Deploying scikit-learn models into production with dotscience\n",
    "\n",
    "With Dotscience you can build and deploy scikit learn models, and monitor the performance of these models. "
   ]
  },
  {
   "cell_type": "code",
   "execution_count": null,
   "metadata": {},
   "outputs": [],
   "source": [
    "import dotscience as ds\n",
    "import os\n",
    "import shutil\n",
    "import sklearn\n",
    "from sklearn import svm\n",
    "from sklearn import datasets\n",
    "from joblib import dump\n",
    "import json"
   ]
  },
  {
   "cell_type": "markdown",
   "metadata": {},
   "source": [
    "Let's create a very simple model"
   ]
  },
  {
   "cell_type": "code",
   "execution_count": null,
   "metadata": {},
   "outputs": [],
   "source": [
    "clf = svm.SVC(gamma='scale', probability=True)\n",
    "iris = datasets.load_iris()\n",
    "X, y = iris.data, iris.target\n",
    "clf.fit(X, y)"
   ]
  },
  {
   "cell_type": "markdown",
   "metadata": {},
   "source": [
    "Dump the model as a joblib file, and write a classes.json file mapping class index to its name\n"
   ]
  },
  {
   "cell_type": "code",
   "execution_count": null,
   "metadata": {},
   "outputs": [],
   "source": [
    "ds.start()\n",
    "\n",
    "MODEL_DIR = \"./model.joblib\"\n",
    "\n",
    "print('export_path = {}\\n'.format(MODEL_DIR))\n",
    "\n",
    "if os.path.isdir(MODEL_DIR):\n",
    "  print('\\nAlready saved a model, cleaning up\\n')\n",
    "  shutil.rmtree(MODEL_DIR)\n",
    "\n",
    "os.mkdir(MODEL_DIR)\n",
    "\n",
    "dump(clf, os.path.join(MODEL_DIR, 'model.joblib'))\n",
    "\n",
    "\n",
    "with open(os.path.join(MODEL_DIR, 'classes.json'), \"w\") as f:\n",
    "    f.write(json.dumps({\n",
    "        \"0\": \"Iris Setosa\",\n",
    "        \"1\": \"Iris Versicolour\",\n",
    "        \"2\": \"Iris Virginica\",\n",
    "    }))\n",
    "\n",
    "shutil.copyfile(\"custom_predict.py\", os.path.join(MODEL_DIR, \"custom_predict.py\"))\n",
    "shutil.copyfile(\"runtime-requirements.txt\", os.path.join(MODEL_DIR, \"runtime-requirements.txt\"))"
   ]
  },
  {
   "cell_type": "markdown",
   "metadata": {},
   "source": [
    "Track the model.joblib file with ds.output() and annotate it with ds.model() to tell Dotscience that there is a model. More infromation about the usage of ds.model can be found at https://docs.dotscience.com/references/dotscience-python-library/#models"
   ]
  },
  {
   "cell_type": "code",
   "execution_count": null,
   "metadata": {},
   "outputs": [],
   "source": [
    "ds.model(sklearn, \"irisCustom\", ds.output(MODEL_DIR), classes=\"./model.joblib/classes.json\")"
   ]
  },
  {
   "cell_type": "markdown",
   "metadata": {},
   "source": [
    "Publish the model"
   ]
  },
  {
   "cell_type": "code",
   "execution_count": null,
   "metadata": {},
   "outputs": [],
   "source": [
    "ds.publish(\"trained iris model\", deploy=True)"
   ]
  },
  {
   "cell_type": "code",
   "execution_count": null,
   "metadata": {},
   "outputs": [],
   "source": []
  },
  {
   "cell_type": "code",
   "execution_count": null,
   "metadata": {},
   "outputs": [],
   "source": []
  }
 ],
 "metadata": {
  "kernelspec": {
   "display_name": "Python 3",
   "language": "python",
   "name": "python3"
  },
  "language_info": {
   "codemirror_mode": {
    "name": "ipython",
    "version": 3
   },
   "file_extension": ".py",
   "mimetype": "text/x-python",
   "name": "python",
   "nbconvert_exporter": "python",
   "pygments_lexer": "ipython3",
   "version": "3.6.9"
  }
 },
 "nbformat": 4,
 "nbformat_minor": 4
}
